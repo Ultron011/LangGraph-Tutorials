{
 "cells": [
  {
   "cell_type": "code",
   "execution_count": null,
   "id": "e5ee31ef",
   "metadata": {},
   "outputs": [],
   "source": [
    "# Quadratic Equation Solver Workflow\n",
    "# This notebook demonstrates conditional branching in LangGraph to solve quadratic equations\n",
    "# The workflow determines the type of roots and computes them accordingly\n",
    "\n",
    "# Import required modules\n",
    "from langgraph.graph import StateGraph, START, END  # LangGraph workflow components\n",
    "from typing import TypedDict, Literal               # Type-safe state definition"
   ]
  },
  {
   "cell_type": "code",
   "execution_count": null,
   "id": "5943cf0e",
   "metadata": {},
   "outputs": [],
   "source": [
    "# Define the Quadratic Equation State Schema\n",
    "# Tracks coefficients, equation string, discriminant, and result\n",
    "class QuadState(TypedDict):\n",
    "    a : int                # Coefficient of x^2\n",
    "    b : int                # Coefficient of x\n",
    "    c : int                # Constant term\n",
    "    equation : str         # String representation of the equation\n",
    "    discriminant : float   # Discriminant value\n",
    "    result : str           # Result (roots or no real roots)"
   ]
  },
  {
   "cell_type": "code",
   "execution_count": null,
   "id": "67471eda",
   "metadata": {},
   "outputs": [],
   "source": [
    "def show_equation(state: QuadState) -> QuadState:\n",
    "    \"\"\"\n",
    "    Step 1: Build the quadratic equation string from coefficients\n",
    "    \"\"\"\n",
    "    equation = f\"{state['a']}x^2{state['b']}x{state['c']}\"\n",
    "    state['equation'] = equation\n",
    "    return state\n",
    "\n",
    "def calculate_discriminant(state: QuadState) -> QuadState:\n",
    "    \"\"\"\n",
    "    Step 2: Calculate the discriminant (b^2 - 4ac)\n",
    "    \"\"\"\n",
    "    discriminant = state['b']**2 - (4*state['a']*state['c'])\n",
    "    state['discriminant'] = discriminant\n",
    "    return state\n",
    "\n",
    "def no_real_roots(state: QuadState) -> QuadState:\n",
    "    \"\"\"\n",
    "    Step 3a: Handle case with no real roots\n",
    "    \"\"\"\n",
    "    state['result'] = 'no real roots'\n",
    "    return state\n",
    "\n",
    "def real_roots(state: QuadState) -> QuadState:\n",
    "    \"\"\"\n",
    "    Step 3b: Compute and display two distinct real roots\n",
    "    \"\"\"\n",
    "    root1 = (-state['b'] + state['discriminant']**0.5)/(2*state['a'])\n",
    "    root2 = (-state['b'] - state['discriminant']**0.5)/(2*state['a'])\n",
    "    result = f'The roots are {root1} and {root2}'\n",
    "    state['result'] = result\n",
    "    return state\n",
    "\n",
    "def repeated_roots(state: QuadState) -> QuadState:\n",
    "    \"\"\"\n",
    "    Step 3c: Compute and display the repeated root\n",
    "    \"\"\"\n",
    "    root = -state['b']/(2*state['a'])\n",
    "    result = f'Only repeating root is : {root}'\n",
    "    state['result'] = result\n",
    "    return state\n",
    "\n",
    "def check_condition(state: QuadState) -> Literal['real_roots', 'no_real_roots', 'repeated_roots'] :\n",
    "    \"\"\"\n",
    "    Step 4: Conditional branching based on discriminant value\n",
    "    \"\"\"\n",
    "    if state['discriminant'] > 0:\n",
    "        return 'real_roots'\n",
    "    elif state['discriminant'] == 0:\n",
    "        return 'repeated_roots'\n",
    "    else:\n",
    "        return 'no_real_roots'"
   ]
  },
  {
   "cell_type": "code",
   "execution_count": null,
   "id": "db6a21b5",
   "metadata": {},
   "outputs": [],
   "source": [
    "# Build the Conditional Quadratic Solver Workflow Graph\n",
    "# The workflow branches based on the discriminant to handle all root cases\n",
    "\n",
    "graph = StateGraph(QuadState)\n",
    "\n",
    "# Add nodes for each step\n",
    "graph.add_node('show_equation', show_equation)              # Build equation string\n",
    "graph.add_node('calculate_discriminant', calculate_discriminant)  # Calculate discriminant\n",
    "graph.add_node('no_real_roots', no_real_roots)              # Handle no real roots\n",
    "graph.add_node('real_roots', real_roots)                    # Handle two real roots\n",
    "graph.add_node('repeated_roots', repeated_roots)            # Handle repeated root\n",
    "\n",
    "# Define edges for sequential and conditional flow\n",
    "graph.add_edge(START, 'show_equation')\n",
    "graph.add_edge('show_equation', 'calculate_discriminant')\n",
    "graph.add_conditional_edges('calculate_discriminant', check_condition)\n",
    "graph.add_edge('real_roots', END)\n",
    "graph.add_edge('repeated_roots', END)\n",
    "graph.add_edge('no_real_roots', END)\n",
    "\n",
    "# Compile the graph into an executable workflow\n",
    "workflow = graph.compile()"
   ]
  },
  {
   "cell_type": "code",
   "execution_count": null,
   "id": "c28050e1",
   "metadata": {},
   "outputs": [
    {
     "data": {
      "text/plain": [
       "{'a': 4,\n",
       " 'b': -5,\n",
       " 'c': -4,\n",
       " 'equation': '4x^2-5x-4',\n",
       " 'discriminant': 89,\n",
       " 'result': 'The roots are 6.179247641507075 and 3.820752358492925'}"
      ]
     },
     "execution_count": 29,
     "metadata": {},
     "output_type": "execute_result"
    }
   ],
   "source": [
    "# Execute the Workflow with Sample Coefficients\n",
    "# Test the quadratic solver for a sample equation\n",
    "initial_state = {\n",
    "    'a' : 4,    # Coefficient of x^2\n",
    "    'b' : -5,   # Coefficient of x\n",
    "    'c' : -4    # Constant term\n",
    "}\n",
    "\n",
    "# Run the workflow and display results\n",
    "workflow.invoke(initial_state)"
   ]
  },
  {
   "cell_type": "code",
   "execution_count": null,
   "id": "5f4a34ea",
   "metadata": {},
   "outputs": [
    {
     "name": "stdout",
     "output_type": "stream",
     "text": [
      "                             +-----------+                               \n",
      "                             | __start__ |                               \n",
      "                             +-----------+                               \n",
      "                                   *                                     \n",
      "                                   *                                     \n",
      "                                   *                                     \n",
      "                           +---------------+                             \n",
      "                           | show_equation |                             \n",
      "                           +---------------+                             \n",
      "                                   *                                     \n",
      "                                   *                                     \n",
      "                                   *                                     \n",
      "                      +------------------------+                         \n",
      "                      | calculate_discriminant |                         \n",
      "                      +------------------------+                         \n",
      "                    .....          .           .....                     \n",
      "                ....               .                ....                 \n",
      "             ...                   .                    ...              \n",
      "+---------------+           +------------+           +----------------+  \n",
      "| no_real_roots |           | real_roots |           | repeated_roots |  \n",
      "+---------------+***        +------------+          *+----------------+  \n",
      "                    *****          *           *****                     \n",
      "                         ****      *       ****                          \n",
      "                             ***   *    ***                              \n",
      "                              +---------+                                \n",
      "                              | __end__ |                                \n",
      "                              +---------+                                \n"
     ]
    }
   ],
   "source": [
    "# Visualize the Workflow Structure\n",
    "# Shows conditional branching for root cases\n",
    "print(workflow.get_graph().draw_ascii())"
   ]
  }
 ],
 "metadata": {
  "kernelspec": {
   "display_name": "langgraph-env",
   "language": "python",
   "name": "python3"
  },
  "language_info": {
   "codemirror_mode": {
    "name": "ipython",
    "version": 3
   },
   "file_extension": ".py",
   "mimetype": "text/x-python",
   "name": "python",
   "nbconvert_exporter": "python",
   "pygments_lexer": "ipython3",
   "version": "3.11.9"
  }
 },
 "nbformat": 4,
 "nbformat_minor": 5
}
