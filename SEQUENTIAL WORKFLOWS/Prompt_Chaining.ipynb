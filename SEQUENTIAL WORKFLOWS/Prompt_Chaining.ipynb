{
 "cells": [
  {
   "cell_type": "code",
   "execution_count": 27,
   "id": "3de31a0a",
   "metadata": {},
   "outputs": [],
   "source": [
    "from langchain_groq import ChatGroq\n",
    "from langgraph.graph import StateGraph, START, END\n",
    "from typing import TypedDict\n",
    "from dotenv import load_dotenv\n",
    "\n",
    "\n",
    "load_dotenv(dotenv_path='../.env')\n",
    "\n",
    "model = ChatGroq(model=\"llama-3.3-70b-versatile\")"
   ]
  },
  {
   "cell_type": "code",
   "execution_count": 46,
   "id": "f97ee576",
   "metadata": {},
   "outputs": [],
   "source": [
    "class BlogState(TypedDict):\n",
    "    title : str\n",
    "    outline : str\n",
    "    content : str\n",
    "    score : int"
   ]
  },
  {
   "cell_type": "code",
   "execution_count": 54,
   "id": "8577a355",
   "metadata": {},
   "outputs": [],
   "source": [
    "def create_outline(state: BlogState) -> BlogState:\n",
    "    title = state['title']\n",
    "    prompt = f'Generate a detailed outline for a blog on the topic - {title}'\n",
    "    outline = model.invoke(prompt).content\n",
    "    state['outline'] = outline\n",
    "    return state"
   ]
  },
  {
   "cell_type": "code",
   "execution_count": 55,
   "id": "c33561e5",
   "metadata": {},
   "outputs": [],
   "source": [
    "def create_blog(state: BlogState) -> BlogState:\n",
    "    title = state['title']\n",
    "    outline = state['outline']\n",
    "    prompt = f'Generate a detailed blog on the title - {title} using the follwing outline \\n {outline}'\n",
    "    content = model.invoke(prompt).content\n",
    "    state['content'] = content\n",
    "    return state\n",
    "    "
   ]
  },
  {
   "cell_type": "code",
   "execution_count": 56,
   "id": "b4fd06c9",
   "metadata": {},
   "outputs": [],
   "source": [
    "def evaluate_blog(state: BlogState) -> BlogState:\n",
    "    outline = state['outline']\n",
    "    content = state['content']\n",
    "    \n",
    "    prompt = f'Based on this outline - \\n Outline - {outline} \\n Give me  ONLY an evaluation score  between 1 and 100(inclusive) -\\n {content}'\n",
    "    score = model.invoke(prompt).content\n",
    "    state['score'] = score\n",
    "    return state"
   ]
  },
  {
   "cell_type": "code",
   "execution_count": 57,
   "id": "075228be",
   "metadata": {},
   "outputs": [],
   "source": [
    "graph = StateGraph(BlogState)\n",
    "\n",
    "graph.add_node('create_outline', create_outline)\n",
    "graph.add_node('create_blog', create_blog)\n",
    "graph.add_node('evaluate_blog', evaluate_blog)\n",
    "\n",
    "graph.add_edge(START, 'create_outline')\n",
    "graph.add_edge('create_outline', 'create_blog')\n",
    "graph.add_edge('create_blog', 'evaluate_blog')\n",
    "graph.add_edge('evaluate_blog', END)\n",
    "\n",
    "workflow = graph.compile()"
   ]
  },
  {
   "cell_type": "code",
   "execution_count": 51,
   "id": "f9011e30",
   "metadata": {},
   "outputs": [
    {
     "data": {
      "text/plain": [
       "{'title': 'Rise of AI in india',\n",
       " 'outline': 'Here is a detailed outline for a blog on the topic \"Rise of AI in India\":\\n\\n**I. Introduction**\\n\\n* Brief overview of Artificial Intelligence (AI) and its growing importance globally\\n* Importance of AI in the Indian context: economic growth, job creation, and societal benefits\\n* Thesis statement: India is witnessing a significant rise in AI adoption, driven by government initiatives, startup innovation, and industry applications, transforming the country\\'s economy and society.\\n\\n**II. Government Initiatives and Policies**\\n\\n* Overview of the Indian government\\'s AI strategy: National Strategy for Artificial Intelligence (NSAI)\\n* Key initiatives:\\n\\t+ Establishment of the National Artificial Intelligence Mission (NAIM)\\n\\t+ Creation of the AI Task Force\\n\\t+ Launch of the AI for All initiative\\n\\t+ Introduction of AI-related courses in educational institutions\\n* Discussion on the impact of these initiatives on promoting AI adoption in India\\n\\n**III. Startup Ecosystem and Innovation**\\n\\n* Overview of the Indian startup ecosystem and its growth\\n* Role of startups in driving AI innovation in India:\\n\\t+ Success stories of Indian AI startups (e.g., Niki, Arya, etc.)\\n\\t+ Funding and investment trends in AI startups\\n\\t+ Collaboration between startups and industry leaders\\n* Discussion on the opportunities and challenges faced by AI startups in India\\n\\n**IV. Industry Applications and Adoption**\\n\\n* Overview of AI adoption across various industries in India:\\n\\t+ Healthcare: telemedicine, medical diagnosis, and personalized medicine\\n\\t+ Finance: chatbots, credit scoring, and risk management\\n\\t+ Manufacturing: predictive maintenance, quality control, and supply chain optimization\\n\\t+ Education: adaptive learning, intelligent tutoring, and student assessment\\n* Case studies of Indian companies leveraging AI for business growth and efficiency\\n* Discussion on the benefits and challenges of AI adoption in Indian industries\\n\\n**V. Challenges and Concerns**\\n\\n* Discussion on the challenges faced by India in adopting AI:\\n\\t+ Lack of skilled talent and expertise\\n\\t+ Limited access to data and infrastructure\\n\\t+ Concerns around job displacement and unemployment\\n\\t+ Ethical and regulatory issues (e.g., data privacy, bias, and accountability)\\n* Examination of the measures being taken to address these challenges\\n\\n**VI. Future Prospects and Opportunities**\\n\\n* Discussion on the future of AI in India:\\n\\t+ Emerging trends: edge AI, explainable AI, and human-AI collaboration\\n\\t+ Opportunities for India to become a global AI hub\\n\\t+ Potential applications of AI in areas like agriculture, transportation, and energy\\n* Examination of the role of India in the global AI ecosystem and its potential to drive innovation and growth\\n\\n**VII. Conclusion**\\n\\n* Recap of the rise of AI in India: government initiatives, startup innovation, and industry applications\\n* Reflection on the challenges and opportunities ahead\\n* Final thoughts: India\\'s potential to harness AI for economic growth, social benefits, and global leadership.\\n\\nThis outline should provide a comprehensive framework for exploring the rise of AI in India, covering various aspects of the topic, from government initiatives to industry applications, challenges, and future prospects.',\n",
       " 'content': \"**The Rise of AI in India: Transforming the Economy and Society**\\n\\n**Introduction**\\n\\nArtificial Intelligence (AI) has emerged as a transformative technology, revolutionizing the way we live, work, and interact with each other. With its ability to analyze vast amounts of data, learn from experiences, and make informed decisions, AI has become an essential tool for businesses, governments, and individuals alike. As the world's second-most populous country, India is witnessing a significant rise in AI adoption, driven by government initiatives, startup innovation, and industry applications. This blog will explore the growth of AI in India, its impact on the economy and society, and the opportunities and challenges that lie ahead.\\n\\n**Government Initiatives and Policies**\\n\\nThe Indian government has recognized the potential of AI to drive economic growth, create jobs, and improve societal benefits. To harness this potential, the government has launched several initiatives and policies to promote AI adoption in the country. The National Strategy for Artificial Intelligence (NSAI) is a comprehensive framework that outlines the government's vision for AI in India. The strategy focuses on five key areas: healthcare, education, infrastructure, manufacturing, and services.\\n\\nSome of the key initiatives launched by the government include:\\n\\n* **National Artificial Intelligence Mission (NAIM)**: A mission to develop a robust AI ecosystem in India, with a focus on research, development, and deployment of AI technologies.\\n* **AI Task Force**: A task force established to provide recommendations on the development of AI in India, including strategies for promoting AI adoption, addressing regulatory issues, and ensuring data protection.\\n* **AI for All**: An initiative to promote AI education and awareness among citizens, with a focus on developing AI-related skills and expertise.\\n* **Introduction of AI-related courses in educational institutions**: The government has introduced AI-related courses in schools, colleges, and universities to develop a skilled workforce and promote AI education.\\n\\nThese initiatives have had a significant impact on promoting AI adoption in India, with many startups, businesses, and organizations leveraging AI to drive innovation and growth.\\n\\n**Startup Ecosystem and Innovation**\\n\\nIndia's startup ecosystem has been a key driver of AI innovation in the country. With a large pool of talented engineers and entrepreneurs, India has become a hub for AI startups, with many companies developing innovative AI solutions for various industries. Some success stories of Indian AI startups include:\\n\\n* **Niki**: A chatbot-based platform that provides personalized customer service and support.\\n* **Arya**: An AI-powered platform that helps farmers optimize crop yields and reduce waste.\\n\\nThe Indian startup ecosystem has also attracted significant funding and investment in AI startups, with many venture capital firms and angel investors supporting AI-focused companies. Collaboration between startups and industry leaders has also been on the rise, with many companies partnering with startups to leverage their AI expertise and develop innovative solutions.\\n\\nHowever, AI startups in India also face several challenges, including:\\n\\n* **Limited access to funding**: Many AI startups struggle to secure funding, particularly in the early stages of development.\\n* **Talent acquisition and retention**: AI startups face significant competition for talent, with many companies competing for skilled engineers and data scientists.\\n* **Regulatory issues**: AI startups often face regulatory challenges, particularly in areas such as data protection and privacy.\\n\\n**Industry Applications and Adoption**\\n\\nAI adoption is on the rise across various industries in India, with many companies leveraging AI to drive business growth and efficiency. Some examples of AI adoption in Indian industries include:\\n\\n* **Healthcare**: Telemedicine, medical diagnosis, and personalized medicine are some of the key areas where AI is being used in healthcare.\\n* **Finance**: Chatbots, credit scoring, and risk management are some of the key areas where AI is being used in finance.\\n* **Manufacturing**: Predictive maintenance, quality control, and supply chain optimization are some of the key areas where AI is being used in manufacturing.\\n* **Education**: Adaptive learning, intelligent tutoring, and student assessment are some of the key areas where AI is being used in education.\\n\\nMany Indian companies have successfully leveraged AI to drive business growth and efficiency. For example:\\n\\n* **Tata Consultancy Services (TCS)**: TCS has developed an AI-powered platform that helps companies optimize their supply chains and improve customer service.\\n* **HDFC Bank**: HDFC Bank has developed an AI-powered chatbot that provides personalized customer service and support.\\n\\nHowever, AI adoption in Indian industries also faces several challenges, including:\\n\\n* **Limited access to data**: Many companies struggle to access high-quality data, which is essential for developing effective AI solutions.\\n* **Lack of skilled talent**: Many companies face significant challenges in finding skilled engineers and data scientists to develop and implement AI solutions.\\n* **Regulatory issues**: Companies face regulatory challenges, particularly in areas such as data protection and privacy.\\n\\n**Challenges and Concerns**\\n\\nDespite the growth of AI in India, there are several challenges and concerns that need to be addressed. Some of the key challenges include:\\n\\n* **Lack of skilled talent**: India faces a significant shortage of skilled engineers and data scientists, which is essential for developing and implementing AI solutions.\\n* **Limited access to data**: Many companies struggle to access high-quality data, which is essential for developing effective AI solutions.\\n* **Job displacement and unemployment**: There are concerns that AI could displace jobs and lead to unemployment, particularly in areas such as manufacturing and customer service.\\n* **Ethical and regulatory issues**: There are concerns around data protection, bias, and accountability, particularly in areas such as healthcare and finance.\\n\\nTo address these challenges, the government and industry leaders are taking several measures, including:\\n\\n* **Developing AI education and training programs**: The government and industry leaders are developing AI education and training programs to develop a skilled workforce.\\n* **Investing in AI research and development**: The government and industry leaders are investing in AI research and development to develop innovative AI solutions.\\n* **Establishing regulatory frameworks**: The government is establishing regulatory frameworks to address concerns around data protection, bias, and accountability.\\n\\n**Future Prospects and Opportunities**\\n\\nThe future of AI in India looks promising, with several emerging trends and opportunities on the horizon. Some of the key trends include:\\n\\n* **Edge AI**: Edge AI refers to the development of AI solutions that can operate on edge devices, such as smartphones and smart home devices.\\n* **Explainable AI**: Explainable AI refers to the development of AI solutions that can provide transparent and interpretable results.\\n* **Human-AI collaboration**: Human-AI collaboration refers to the development of AI solutions that can collaborate with humans to achieve complex tasks.\\n\\nIndia has the potential to become a global AI hub, with several opportunities for innovation and growth. Some of the key areas where AI can be applied include:\\n\\n* **Agriculture**: AI can be used to optimize crop yields, reduce waste, and improve farmer productivity.\\n* **Transportation**: AI can be used to develop autonomous vehicles, optimize traffic flow, and improve road safety.\\n* **Energy**: AI can be used to optimize energy consumption, reduce waste, and improve energy efficiency.\\n\\n**Conclusion**\\n\\nIn conclusion, the rise of AI in India is transforming the economy and society, with significant growth in government initiatives, startup innovation, and industry applications. While there are challenges and concerns that need to be addressed, the future of AI in India looks promising, with several emerging trends and opportunities on the horizon. With the right investments in education, research, and development, India can become a global AI hub, driving innovation and growth for years to come. Ultimately, the key to harnessing the potential of AI in India lies in addressing the challenges and concerns, while leveraging the opportunities for innovation and growth.\",\n",
       " 'score': '87'}"
      ]
     },
     "execution_count": 51,
     "metadata": {},
     "output_type": "execute_result"
    }
   ],
   "source": [
    "initial_state = {\n",
    "    'title' : 'Rise of AI in india'\n",
    "} \n",
    "\n",
    "final_state = workflow.invoke(initial_state)\n",
    "final_state"
   ]
  },
  {
   "cell_type": "code",
   "execution_count": 52,
   "id": "e86e3b8c",
   "metadata": {},
   "outputs": [
    {
     "data": {
      "text/plain": [
       "'Here is a detailed outline for a blog on the topic \"Rise of AI in India\":\\n\\n**I. Introduction**\\n\\n* Brief overview of Artificial Intelligence (AI) and its growing importance globally\\n* Importance of AI in the Indian context: economic growth, job creation, and societal benefits\\n* Thesis statement: India is witnessing a significant rise in AI adoption, driven by government initiatives, startup innovation, and industry applications, transforming the country\\'s economy and society.\\n\\n**II. Government Initiatives and Policies**\\n\\n* Overview of the Indian government\\'s AI strategy: National Strategy for Artificial Intelligence (NSAI)\\n* Key initiatives:\\n\\t+ Establishment of the National Artificial Intelligence Mission (NAIM)\\n\\t+ Creation of the AI Task Force\\n\\t+ Launch of the AI for All initiative\\n\\t+ Introduction of AI-related courses in educational institutions\\n* Discussion on the impact of these initiatives on promoting AI adoption in India\\n\\n**III. Startup Ecosystem and Innovation**\\n\\n* Overview of the Indian startup ecosystem and its growth\\n* Role of startups in driving AI innovation in India:\\n\\t+ Success stories of Indian AI startups (e.g., Niki, Arya, etc.)\\n\\t+ Funding and investment trends in AI startups\\n\\t+ Collaboration between startups and industry leaders\\n* Discussion on the opportunities and challenges faced by AI startups in India\\n\\n**IV. Industry Applications and Adoption**\\n\\n* Overview of AI adoption across various industries in India:\\n\\t+ Healthcare: telemedicine, medical diagnosis, and personalized medicine\\n\\t+ Finance: chatbots, credit scoring, and risk management\\n\\t+ Manufacturing: predictive maintenance, quality control, and supply chain optimization\\n\\t+ Education: adaptive learning, intelligent tutoring, and student assessment\\n* Case studies of Indian companies leveraging AI for business growth and efficiency\\n* Discussion on the benefits and challenges of AI adoption in Indian industries\\n\\n**V. Challenges and Concerns**\\n\\n* Discussion on the challenges faced by India in adopting AI:\\n\\t+ Lack of skilled talent and expertise\\n\\t+ Limited access to data and infrastructure\\n\\t+ Concerns around job displacement and unemployment\\n\\t+ Ethical and regulatory issues (e.g., data privacy, bias, and accountability)\\n* Examination of the measures being taken to address these challenges\\n\\n**VI. Future Prospects and Opportunities**\\n\\n* Discussion on the future of AI in India:\\n\\t+ Emerging trends: edge AI, explainable AI, and human-AI collaboration\\n\\t+ Opportunities for India to become a global AI hub\\n\\t+ Potential applications of AI in areas like agriculture, transportation, and energy\\n* Examination of the role of India in the global AI ecosystem and its potential to drive innovation and growth\\n\\n**VII. Conclusion**\\n\\n* Recap of the rise of AI in India: government initiatives, startup innovation, and industry applications\\n* Reflection on the challenges and opportunities ahead\\n* Final thoughts: India\\'s potential to harness AI for economic growth, social benefits, and global leadership.\\n\\nThis outline should provide a comprehensive framework for exploring the rise of AI in India, covering various aspects of the topic, from government initiatives to industry applications, challenges, and future prospects.'"
      ]
     },
     "execution_count": 52,
     "metadata": {},
     "output_type": "execute_result"
    }
   ],
   "source": [
    "final_state['outline']"
   ]
  },
  {
   "cell_type": "code",
   "execution_count": 53,
   "id": "e342e227",
   "metadata": {},
   "outputs": [
    {
     "data": {
      "text/plain": [
       "\"**The Rise of AI in India: Transforming the Economy and Society**\\n\\n**Introduction**\\n\\nArtificial Intelligence (AI) has emerged as a transformative technology, revolutionizing the way we live, work, and interact with each other. With its ability to analyze vast amounts of data, learn from experiences, and make informed decisions, AI has become an essential tool for businesses, governments, and individuals alike. As the world's second-most populous country, India is witnessing a significant rise in AI adoption, driven by government initiatives, startup innovation, and industry applications. This blog will explore the growth of AI in India, its impact on the economy and society, and the opportunities and challenges that lie ahead.\\n\\n**Government Initiatives and Policies**\\n\\nThe Indian government has recognized the potential of AI to drive economic growth, create jobs, and improve societal benefits. To harness this potential, the government has launched several initiatives and policies to promote AI adoption in the country. The National Strategy for Artificial Intelligence (NSAI) is a comprehensive framework that outlines the government's vision for AI in India. The strategy focuses on five key areas: healthcare, education, infrastructure, manufacturing, and services.\\n\\nSome of the key initiatives launched by the government include:\\n\\n* **National Artificial Intelligence Mission (NAIM)**: A mission to develop a robust AI ecosystem in India, with a focus on research, development, and deployment of AI technologies.\\n* **AI Task Force**: A task force established to provide recommendations on the development of AI in India, including strategies for promoting AI adoption, addressing regulatory issues, and ensuring data protection.\\n* **AI for All**: An initiative to promote AI education and awareness among citizens, with a focus on developing AI-related skills and expertise.\\n* **Introduction of AI-related courses in educational institutions**: The government has introduced AI-related courses in schools, colleges, and universities to develop a skilled workforce and promote AI education.\\n\\nThese initiatives have had a significant impact on promoting AI adoption in India, with many startups, businesses, and organizations leveraging AI to drive innovation and growth.\\n\\n**Startup Ecosystem and Innovation**\\n\\nIndia's startup ecosystem has been a key driver of AI innovation in the country. With a large pool of talented engineers and entrepreneurs, India has become a hub for AI startups, with many companies developing innovative AI solutions for various industries. Some success stories of Indian AI startups include:\\n\\n* **Niki**: A chatbot-based platform that provides personalized customer service and support.\\n* **Arya**: An AI-powered platform that helps farmers optimize crop yields and reduce waste.\\n\\nThe Indian startup ecosystem has also attracted significant funding and investment in AI startups, with many venture capital firms and angel investors supporting AI-focused companies. Collaboration between startups and industry leaders has also been on the rise, with many companies partnering with startups to leverage their AI expertise and develop innovative solutions.\\n\\nHowever, AI startups in India also face several challenges, including:\\n\\n* **Limited access to funding**: Many AI startups struggle to secure funding, particularly in the early stages of development.\\n* **Talent acquisition and retention**: AI startups face significant competition for talent, with many companies competing for skilled engineers and data scientists.\\n* **Regulatory issues**: AI startups often face regulatory challenges, particularly in areas such as data protection and privacy.\\n\\n**Industry Applications and Adoption**\\n\\nAI adoption is on the rise across various industries in India, with many companies leveraging AI to drive business growth and efficiency. Some examples of AI adoption in Indian industries include:\\n\\n* **Healthcare**: Telemedicine, medical diagnosis, and personalized medicine are some of the key areas where AI is being used in healthcare.\\n* **Finance**: Chatbots, credit scoring, and risk management are some of the key areas where AI is being used in finance.\\n* **Manufacturing**: Predictive maintenance, quality control, and supply chain optimization are some of the key areas where AI is being used in manufacturing.\\n* **Education**: Adaptive learning, intelligent tutoring, and student assessment are some of the key areas where AI is being used in education.\\n\\nMany Indian companies have successfully leveraged AI to drive business growth and efficiency. For example:\\n\\n* **Tata Consultancy Services (TCS)**: TCS has developed an AI-powered platform that helps companies optimize their supply chains and improve customer service.\\n* **HDFC Bank**: HDFC Bank has developed an AI-powered chatbot that provides personalized customer service and support.\\n\\nHowever, AI adoption in Indian industries also faces several challenges, including:\\n\\n* **Limited access to data**: Many companies struggle to access high-quality data, which is essential for developing effective AI solutions.\\n* **Lack of skilled talent**: Many companies face significant challenges in finding skilled engineers and data scientists to develop and implement AI solutions.\\n* **Regulatory issues**: Companies face regulatory challenges, particularly in areas such as data protection and privacy.\\n\\n**Challenges and Concerns**\\n\\nDespite the growth of AI in India, there are several challenges and concerns that need to be addressed. Some of the key challenges include:\\n\\n* **Lack of skilled talent**: India faces a significant shortage of skilled engineers and data scientists, which is essential for developing and implementing AI solutions.\\n* **Limited access to data**: Many companies struggle to access high-quality data, which is essential for developing effective AI solutions.\\n* **Job displacement and unemployment**: There are concerns that AI could displace jobs and lead to unemployment, particularly in areas such as manufacturing and customer service.\\n* **Ethical and regulatory issues**: There are concerns around data protection, bias, and accountability, particularly in areas such as healthcare and finance.\\n\\nTo address these challenges, the government and industry leaders are taking several measures, including:\\n\\n* **Developing AI education and training programs**: The government and industry leaders are developing AI education and training programs to develop a skilled workforce.\\n* **Investing in AI research and development**: The government and industry leaders are investing in AI research and development to develop innovative AI solutions.\\n* **Establishing regulatory frameworks**: The government is establishing regulatory frameworks to address concerns around data protection, bias, and accountability.\\n\\n**Future Prospects and Opportunities**\\n\\nThe future of AI in India looks promising, with several emerging trends and opportunities on the horizon. Some of the key trends include:\\n\\n* **Edge AI**: Edge AI refers to the development of AI solutions that can operate on edge devices, such as smartphones and smart home devices.\\n* **Explainable AI**: Explainable AI refers to the development of AI solutions that can provide transparent and interpretable results.\\n* **Human-AI collaboration**: Human-AI collaboration refers to the development of AI solutions that can collaborate with humans to achieve complex tasks.\\n\\nIndia has the potential to become a global AI hub, with several opportunities for innovation and growth. Some of the key areas where AI can be applied include:\\n\\n* **Agriculture**: AI can be used to optimize crop yields, reduce waste, and improve farmer productivity.\\n* **Transportation**: AI can be used to develop autonomous vehicles, optimize traffic flow, and improve road safety.\\n* **Energy**: AI can be used to optimize energy consumption, reduce waste, and improve energy efficiency.\\n\\n**Conclusion**\\n\\nIn conclusion, the rise of AI in India is transforming the economy and society, with significant growth in government initiatives, startup innovation, and industry applications. While there are challenges and concerns that need to be addressed, the future of AI in India looks promising, with several emerging trends and opportunities on the horizon. With the right investments in education, research, and development, India can become a global AI hub, driving innovation and growth for years to come. Ultimately, the key to harnessing the potential of AI in India lies in addressing the challenges and concerns, while leveraging the opportunities for innovation and growth.\""
      ]
     },
     "execution_count": 53,
     "metadata": {},
     "output_type": "execute_result"
    }
   ],
   "source": [
    "final_state['content']"
   ]
  },
  {
   "cell_type": "code",
   "execution_count": 58,
   "id": "5c21ed43",
   "metadata": {},
   "outputs": [
    {
     "data": {
      "text/plain": [
       "'87'"
      ]
     },
     "execution_count": 58,
     "metadata": {},
     "output_type": "execute_result"
    }
   ],
   "source": [
    "final_state['score']"
   ]
  },
  {
   "cell_type": "code",
   "execution_count": 59,
   "id": "4d57c7d9",
   "metadata": {},
   "outputs": [
    {
     "data": {
      "image/png": "[encoded data removed]",
      "text/plain": [
       "<IPython.core.display.Image object>"
      ]
     },
     "execution_count": 59,
     "metadata": {},
     "output_type": "execute_result"
    }
   ],
   "source": [
    "from IPython.display import Image\n",
    "Image(workflow.get_graph().draw_mermaid_png())"
   ]
  }
 ],
 "metadata": {
  "kernelspec": {
   "display_name": "langgraph-env",
   "language": "python",
   "name": "python3"
  },
  "language_info": {
   "codemirror_mode": {
    "name": "ipython",
    "version": 3
   },
   "file_extension": ".py",
   "mimetype": "text/x-python",
   "name": "python",
   "nbconvert_exporter": "python",
   "pygments_lexer": "ipython3",
   "version": "3.11.9"
  }
 },
 "nbformat": 4,
 "nbformat_minor": 5
}
