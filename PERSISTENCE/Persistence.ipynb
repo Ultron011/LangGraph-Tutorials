{
 "cells": [
  {
   "cell_type": "code",
   "execution_count": null,
   "id": "f7142313",
   "metadata": {},
   "outputs": [],
   "source": [
    "\"\"\"\n",
    "LangGraph Persistence Tutorial - State Management & Time Travel\n",
    "\n",
    "This notebook demonstrates how to build persistent workflows with LangGraph that can:\n",
    "\n",
    "1. Save and restore workflow state across executions\n",
    "2. Maintain separate conversation threads (sessions)\n",
    "3. Access complete history of state changes at each step\n",
    "4. \"Time travel\" - jump back to any previous checkpoint and continue\n",
    "5. Manually update past states to create alternate execution paths\n",
    "\n",
    "Key Features Covered:\n",
    "- MemorySaver checkpointer for state persistence\n",
    "- Thread-based session management (each thread_id = separate conversation)\n",
    "- State history tracking and retrieval\n",
    "- Checkpoint-based resumption from any point in workflow\n",
    "- Manual state updates for advanced control\n",
    "\n",
    "Use Cases: Multi-turn conversations, debugging workflows, A/B testing different paths,\n",
    "creating branching narratives, and maintaining user sessions across app restarts.\n",
    "\"\"\"\n",
    "\n",
    "# Import libraries for building a persistent workflow\n",
    "# MemorySaver allows us to save and restore workflow state\n",
    "from langgraph.graph import StateGraph, START, END\n",
    "from typing import TypedDict\n",
    "from langgraph.checkpoint.memory import MemorySaver"
   ]
  },
  {
   "cell_type": "code",
   "execution_count": null,
   "id": "6b59436d",
   "metadata": {},
   "outputs": [],
   "source": [
    "# Set up the language model for generating jokes and explanations\n",
    "from langchain_groq import ChatGroq\n",
    "from dotenv import load_dotenv\n",
    "\n",
    "load_dotenv(dotenv_path='../.env')\n",
    "\n",
    "model = ChatGroq(model=\"llama-3.3-70b-versatile\")"
   ]
  },
  {
   "cell_type": "code",
   "execution_count": null,
   "id": "6f4f292d",
   "metadata": {},
   "outputs": [],
   "source": [
    "# Define the state structure for our joke workflow\n",
    "# This tracks the topic, generated joke, and explanation\n",
    "class JokeState(TypedDict):\n",
    "    topic : str\n",
    "    joke : str\n",
    "    explanation : str"
   ]
  },
  {
   "cell_type": "code",
   "execution_count": null,
   "id": "39d6ca05",
   "metadata": {},
   "outputs": [],
   "source": [
    "# Function to generate a joke based on the given topic\n",
    "def generate_joke(state: JokeState):\n",
    "    prompt = f\"Generate a joke on the topic : {state['topic']}\"\n",
    "    response = model.invoke(prompt).content\n",
    "    \n",
    "    return {'joke' : response}\n",
    "\n",
    "# Function to explain why the joke is funny\n",
    "def generate_explanation(state: JokeState):\n",
    "    prompt = f\"Write an explanation for the joke - {state['joke']}\"\n",
    "    response = model.invoke(prompt).content\n",
    "    \n",
    "    return {'explanation' : response}"
   ]
  },
  {
   "cell_type": "code",
   "execution_count": null,
   "id": "188a45e6",
   "metadata": {},
   "outputs": [],
   "source": [
    "# Build the workflow graph with persistence enabled\n",
    "# The checkpointer saves state at each step so we can resume or review history\n",
    "graph = StateGraph(JokeState)\n",
    "\n",
    "graph.add_node('generate_joke', generate_joke)\n",
    "graph.add_node('generate_explanation' , generate_explanation)\n",
    "\n",
    "graph.add_edge(START, 'generate_joke')\n",
    "graph.add_edge('generate_joke', 'generate_explanation')\n",
    "graph.add_edge('generate_explanation', END)\n",
    "\n",
    "# Add memory saver to enable persistence\n",
    "checkpointer = MemorySaver()\n",
    "\n",
    "workflow = graph.compile(checkpointer= checkpointer)"
   ]
  },
  {
   "cell_type": "code",
   "execution_count": null,
   "id": "125daaa7",
   "metadata": {},
   "outputs": [
    {
     "data": {
      "text/plain": [
       "{'topic': 'Donald Trump',\n",
       " 'joke': 'Why did Donald Trump bring a ladder to the White House?\\n\\nBecause he wanted to take his wall to the next level! (get it?)',\n",
       " 'explanation': 'A clever play on words. This joke relies on a double meaning of the phrase \"take it to the next level.\" In a literal sense, a ladder is used to reach higher physical levels or heights. However, the phrase \"take it to the next level\" is also an idiomatic expression meaning to improve, enhance, or escalate something.\\n\\nIn this joke, the punchline \"take his wall to the next level\" is a wordplay referencing Donald Trump\\'s controversial proposal to build a wall along the US-Mexico border. By bringing a ladder to the White House, Trump is literally trying to take his wall to a higher physical level, but the phrase also implies that he\\'s trying to improve or escalate his wall project.\\n\\nThe humor comes from the unexpected twist on the phrase\\'s meaning, creating a clever and amusing connection between the setup (Trump bringing a ladder) and the punchline (taking his wall to the next level). The joke requires a basic understanding of Trump\\'s wall proposal and the idiomatic expression, making it a lighthearted and humorous commentary on the political topic.'}"
      ]
     },
     "execution_count": 11,
     "metadata": {},
     "output_type": "execute_result"
    }
   ],
   "source": [
    "# Run the workflow for the first time with thread_id \"1\"\n",
    "# Each thread_id creates a separate conversation/session\n",
    "config1 = {\"configurable\" : {\"thread_id\" : \"1\"}}\n",
    "workflow.invoke({'topic' : 'Donald Trump'}, config=config1)"
   ]
  },
  {
   "cell_type": "code",
   "execution_count": null,
   "id": "0bc0b45c",
   "metadata": {},
   "outputs": [
    {
     "data": {
      "text/plain": [
       "StateSnapshot(values={'topic': 'Donald Trump', 'joke': 'Why did Donald Trump bring a ladder to the White House?\\n\\nBecause he wanted to take his wall to the next level! (get it?)', 'explanation': 'A clever play on words. This joke relies on a double meaning of the phrase \"take it to the next level.\" In a literal sense, a ladder is used to reach higher physical levels or heights. However, the phrase \"take it to the next level\" is also an idiomatic expression meaning to improve, enhance, or escalate something.\\n\\nIn this joke, the punchline \"take his wall to the next level\" is a wordplay referencing Donald Trump\\'s controversial proposal to build a wall along the US-Mexico border. By bringing a ladder to the White House, Trump is literally trying to take his wall to a higher physical level, but the phrase also implies that he\\'s trying to improve or escalate his wall project.\\n\\nThe humor comes from the unexpected twist on the phrase\\'s meaning, creating a clever and amusing connection between the setup (Trump bringing a ladder) and the punchline (taking his wall to the next level). The joke requires a basic understanding of Trump\\'s wall proposal and the idiomatic expression, making it a lighthearted and humorous commentary on the political topic.'}, next=(), config={'configurable': {'thread_id': '1', 'checkpoint_ns': '', 'checkpoint_id': '1f070349-272e-662a-8002-5a9f67f7979a'}}, metadata={'source': 'loop', 'step': 2, 'parents': {}}, created_at='2025-08-03T06:39:14.609924+00:00', parent_config={'configurable': {'thread_id': '1', 'checkpoint_ns': '', 'checkpoint_id': '1f070349-20b1-698c-8001-abe48cb907ed'}}, tasks=(), interrupts=())"
      ]
     },
     "execution_count": 12,
     "metadata": {},
     "output_type": "execute_result"
    }
   ],
   "source": [
    "# Get the current/final state of thread 1\n",
    "# This shows the complete state after the workflow finished\n",
    "workflow.get_state(config1)"
   ]
  },
  {
   "cell_type": "code",
   "execution_count": null,
   "id": "4bea12d0",
   "metadata": {},
   "outputs": [
    {
     "data": {
      "text/plain": [
       "[StateSnapshot(values={'topic': 'Donald Trump', 'joke': 'Why did Donald Trump bring a ladder to the White House?\\n\\nBecause he wanted to take his wall to the next level! (get it?)', 'explanation': 'A clever play on words. This joke relies on a double meaning of the phrase \"take it to the next level.\" In a literal sense, a ladder is used to reach higher physical levels or heights. However, the phrase \"take it to the next level\" is also an idiomatic expression meaning to improve, enhance, or escalate something.\\n\\nIn this joke, the punchline \"take his wall to the next level\" is a wordplay referencing Donald Trump\\'s controversial proposal to build a wall along the US-Mexico border. By bringing a ladder to the White House, Trump is literally trying to take his wall to a higher physical level, but the phrase also implies that he\\'s trying to improve or escalate his wall project.\\n\\nThe humor comes from the unexpected twist on the phrase\\'s meaning, creating a clever and amusing connection between the setup (Trump bringing a ladder) and the punchline (taking his wall to the next level). The joke requires a basic understanding of Trump\\'s wall proposal and the idiomatic expression, making it a lighthearted and humorous commentary on the political topic.'}, next=(), config={'configurable': {'thread_id': '1', 'checkpoint_ns': '', 'checkpoint_id': '1f070349-272e-662a-8002-5a9f67f7979a'}}, metadata={'source': 'loop', 'step': 2, 'parents': {}}, created_at='2025-08-03T06:39:14.609924+00:00', parent_config={'configurable': {'thread_id': '1', 'checkpoint_ns': '', 'checkpoint_id': '1f070349-20b1-698c-8001-abe48cb907ed'}}, tasks=(), interrupts=()),\n",
       " StateSnapshot(values={'topic': 'Donald Trump', 'joke': 'Why did Donald Trump bring a ladder to the White House?\\n\\nBecause he wanted to take his wall to the next level! (get it?)'}, next=('generate_explanation',), config={'configurable': {'thread_id': '1', 'checkpoint_ns': '', 'checkpoint_id': '1f070349-20b1-698c-8001-abe48cb907ed'}}, metadata={'source': 'loop', 'step': 1, 'parents': {}}, created_at='2025-08-03T06:39:13.929665+00:00', parent_config={'configurable': {'thread_id': '1', 'checkpoint_ns': '', 'checkpoint_id': '1f070349-1e37-6b1b-8000-9efdde7737a6'}}, tasks=(PregelTask(id='be160f0e-7e64-8342-04df-58f49b69200b', name='generate_explanation', path=('__pregel_pull', 'generate_explanation'), error=None, interrupts=(), state=None, result={'explanation': 'A clever play on words. This joke relies on a double meaning of the phrase \"take it to the next level.\" In a literal sense, a ladder is used to reach higher physical levels or heights. However, the phrase \"take it to the next level\" is also an idiomatic expression meaning to improve, enhance, or escalate something.\\n\\nIn this joke, the punchline \"take his wall to the next level\" is a wordplay referencing Donald Trump\\'s controversial proposal to build a wall along the US-Mexico border. By bringing a ladder to the White House, Trump is literally trying to take his wall to a higher physical level, but the phrase also implies that he\\'s trying to improve or escalate his wall project.\\n\\nThe humor comes from the unexpected twist on the phrase\\'s meaning, creating a clever and amusing connection between the setup (Trump bringing a ladder) and the punchline (taking his wall to the next level). The joke requires a basic understanding of Trump\\'s wall proposal and the idiomatic expression, making it a lighthearted and humorous commentary on the political topic.'}),), interrupts=()),\n",
       " StateSnapshot(values={'topic': 'Donald Trump'}, next=('generate_joke',), config={'configurable': {'thread_id': '1', 'checkpoint_ns': '', 'checkpoint_id': '1f070349-1e37-6b1b-8000-9efdde7737a6'}}, metadata={'source': 'loop', 'step': 0, 'parents': {}}, created_at='2025-08-03T06:39:13.670018+00:00', parent_config={'configurable': {'thread_id': '1', 'checkpoint_ns': '', 'checkpoint_id': '1f070349-1e35-660c-bfff-8efce6c90150'}}, tasks=(PregelTask(id='9e22b6f5-e0ed-6bf3-3c6d-e1bdad1a74cc', name='generate_joke', path=('__pregel_pull', 'generate_joke'), error=None, interrupts=(), state=None, result={'joke': 'Why did Donald Trump bring a ladder to the White House?\\n\\nBecause he wanted to take his wall to the next level! (get it?)'}),), interrupts=()),\n",
       " StateSnapshot(values={}, next=('__start__',), config={'configurable': {'thread_id': '1', 'checkpoint_ns': '', 'checkpoint_id': '1f070349-1e35-660c-bfff-8efce6c90150'}}, metadata={'source': 'input', 'step': -1, 'parents': {}}, created_at='2025-08-03T06:39:13.669069+00:00', parent_config=None, tasks=(PregelTask(id='f9e49ec2-65fb-1345-57c6-695b8bdccc71', name='__start__', path=('__pregel_pull', '__start__'), error=None, interrupts=(), state=None, result={'topic': 'Donald Trump'}),), interrupts=())]"
      ]
     },
     "execution_count": 13,
     "metadata": {},
     "output_type": "execute_result"
    }
   ],
   "source": [
    "# View the complete history of state changes for thread 1\n",
    "# This shows how the state evolved at each step of the workflow\n",
    "list(workflow.get_state_history(config1))"
   ]
  },
  {
   "cell_type": "code",
   "execution_count": null,
   "id": "00c9b245",
   "metadata": {},
   "outputs": [
    {
     "data": {
      "text/plain": [
       "{'topic': 'pasta',\n",
       " 'joke': 'Why did the spaghetti refuse to get married?\\n\\nBecause it was afraid of getting tangled up in a relationship!',\n",
       " 'explanation': 'A classic play on words. This joke is funny because it uses a clever pun to create a humorous connection between the setup and the punchline. \\n\\nThe joke starts by asking why the spaghetti refused to get married, which sets up the expectation that the reason will be related to relationships or commitment. The punchline subverts this expectation by using the phrase \"tangled up\" in a literal and figurative sense. \\n\\nSpaghetti is a type of long, thin, cylindrical pasta that can easily become entangled or \"tangled up\" when not cooked or stored properly. However, the phrase \"tangled up\" is also an idiomatic expression that means to become deeply involved or embroiled in a complicated situation, often in the context of relationships.\\n\\nThe joke relies on this double meaning of \"tangled up\" to create a wordplay that connects the physical properties of spaghetti (getting tangled) to the emotional connotations of a romantic relationship (getting tangled up in a relationship). The humor comes from the unexpected twist on the usual meaning of the phrase, creating a lighthearted and clever connection between the setup and the punchline.'}"
      ]
     },
     "execution_count": 14,
     "metadata": {},
     "output_type": "execute_result"
    }
   ],
   "source": [
    "# Start a new conversation thread with a different topic\n",
    "# Thread 2 is completely separate from thread 1\n",
    "config2 = {\"configurable\" : {\"thread_id\" : \"2\"}}\n",
    "workflow.invoke({'topic' : 'pasta'}, config=config2)"
   ]
  },
  {
   "cell_type": "code",
   "execution_count": null,
   "id": "ae5e98b3",
   "metadata": {},
   "outputs": [
    {
     "data": {
      "text/plain": [
       "[StateSnapshot(values={'topic': 'pasta', 'joke': 'Why did the spaghetti refuse to get married?\\n\\nBecause it was afraid of getting tangled up in a relationship!', 'explanation': 'A classic play on words. This joke is funny because it uses a clever pun to create a humorous connection between the setup and the punchline. \\n\\nThe joke starts by asking why the spaghetti refused to get married, which sets up the expectation that the reason will be related to relationships or commitment. The punchline subverts this expectation by using the phrase \"tangled up\" in a literal and figurative sense. \\n\\nSpaghetti is a type of long, thin, cylindrical pasta that can easily become entangled or \"tangled up\" when not cooked or stored properly. However, the phrase \"tangled up\" is also an idiomatic expression that means to become deeply involved or embroiled in a complicated situation, often in the context of relationships.\\n\\nThe joke relies on this double meaning of \"tangled up\" to create a wordplay that connects the physical properties of spaghetti (getting tangled) to the emotional connotations of a romantic relationship (getting tangled up in a relationship). The humor comes from the unexpected twist on the usual meaning of the phrase, creating a lighthearted and clever connection between the setup and the punchline.'}, next=(), config={'configurable': {'thread_id': '2', 'checkpoint_ns': '', 'checkpoint_id': '1f070350-6796-6ba7-8002-d880b8327463'}}, metadata={'source': 'loop', 'step': 2, 'parents': {}}, created_at='2025-08-03T06:42:29.268368+00:00', parent_config={'configurable': {'thread_id': '2', 'checkpoint_ns': '', 'checkpoint_id': '1f070350-433e-62e0-8001-8dfb0133a573'}}, tasks=(), interrupts=()),\n",
       " StateSnapshot(values={'topic': 'pasta', 'joke': 'Why did the spaghetti refuse to get married?\\n\\nBecause it was afraid of getting tangled up in a relationship!'}, next=('generate_explanation',), config={'configurable': {'thread_id': '2', 'checkpoint_ns': '', 'checkpoint_id': '1f070350-433e-62e0-8001-8dfb0133a573'}}, metadata={'source': 'loop', 'step': 1, 'parents': {}}, created_at='2025-08-03T06:42:25.457225+00:00', parent_config={'configurable': {'thread_id': '2', 'checkpoint_ns': '', 'checkpoint_id': '1f070350-40a5-6bd8-8000-94945e440955'}}, tasks=(PregelTask(id='ad105c15-f546-24a8-8fa9-5ed0e549c78e', name='generate_explanation', path=('__pregel_pull', 'generate_explanation'), error=None, interrupts=(), state=None, result={'explanation': 'A classic play on words. This joke is funny because it uses a clever pun to create a humorous connection between the setup and the punchline. \\n\\nThe joke starts by asking why the spaghetti refused to get married, which sets up the expectation that the reason will be related to relationships or commitment. The punchline subverts this expectation by using the phrase \"tangled up\" in a literal and figurative sense. \\n\\nSpaghetti is a type of long, thin, cylindrical pasta that can easily become entangled or \"tangled up\" when not cooked or stored properly. However, the phrase \"tangled up\" is also an idiomatic expression that means to become deeply involved or embroiled in a complicated situation, often in the context of relationships.\\n\\nThe joke relies on this double meaning of \"tangled up\" to create a wordplay that connects the physical properties of spaghetti (getting tangled) to the emotional connotations of a romantic relationship (getting tangled up in a relationship). The humor comes from the unexpected twist on the usual meaning of the phrase, creating a lighthearted and clever connection between the setup and the punchline.'}),), interrupts=()),\n",
       " StateSnapshot(values={'topic': 'pasta'}, next=('generate_joke',), config={'configurable': {'thread_id': '2', 'checkpoint_ns': '', 'checkpoint_id': '1f070350-40a5-6bd8-8000-94945e440955'}}, metadata={'source': 'loop', 'step': 0, 'parents': {}}, created_at='2025-08-03T06:42:25.185071+00:00', parent_config={'configurable': {'thread_id': '2', 'checkpoint_ns': '', 'checkpoint_id': '1f070350-40a3-6064-bfff-360276f26118'}}, tasks=(PregelTask(id='ad376966-fbb9-c1ac-52ce-22c8ce04d5a8', name='generate_joke', path=('__pregel_pull', 'generate_joke'), error=None, interrupts=(), state=None, result={'joke': 'Why did the spaghetti refuse to get married?\\n\\nBecause it was afraid of getting tangled up in a relationship!'}),), interrupts=()),\n",
       " StateSnapshot(values={}, next=('__start__',), config={'configurable': {'thread_id': '2', 'checkpoint_ns': '', 'checkpoint_id': '1f070350-40a3-6064-bfff-360276f26118'}}, metadata={'source': 'input', 'step': -1, 'parents': {}}, created_at='2025-08-03T06:42:25.183958+00:00', parent_config=None, tasks=(PregelTask(id='f51f7d7d-6436-c4fb-977f-3e710c34f355', name='__start__', path=('__pregel_pull', '__start__'), error=None, interrupts=(), state=None, result={'topic': 'pasta'}),), interrupts=())]"
      ]
     },
     "execution_count": 18,
     "metadata": {},
     "output_type": "execute_result"
    }
   ],
   "source": [
    "# Check the history of thread 2 - notice it's independent of thread 1\n",
    "list(workflow.get_state_history(config2))"
   ]
  },
  {
   "cell_type": "markdown",
   "id": "30d852e8",
   "metadata": {},
   "source": [
    "# Time Travel - Go Back to Previous States\n",
    "We can jump back to any previous checkpoint in our workflow history and continue from there."
   ]
  },
  {
   "cell_type": "code",
   "execution_count": null,
   "id": "0a671bd1",
   "metadata": {},
   "outputs": [
    {
     "data": {
      "text/plain": [
       "StateSnapshot(values={'topic': 'pasta'}, next=('generate_joke',), config={'configurable': {'thread_id': '2', 'checkpoint_id': '1f070350-40a5-6bd8-8000-94945e440955'}}, metadata={'source': 'loop', 'step': 0, 'parents': {}}, created_at='2025-08-03T06:42:25.185071+00:00', parent_config={'configurable': {'thread_id': '2', 'checkpoint_ns': '', 'checkpoint_id': '1f070350-40a3-6064-bfff-360276f26118'}}, tasks=(PregelTask(id='ad376966-fbb9-c1ac-52ce-22c8ce04d5a8', name='generate_joke', path=('__pregel_pull', 'generate_joke'), error=None, interrupts=(), state=None, result={'joke': 'Why did the spaghetti refuse to get married?\\n\\nBecause it was afraid of getting tangled up in a relationship!'}),), interrupts=())"
      ]
     },
     "execution_count": 19,
     "metadata": {},
     "output_type": "execute_result"
    }
   ],
   "source": [
    "# Access a specific checkpoint from thread 2's history\n",
    "# The checkpoint_id lets us jump to any point in the workflow\n",
    "workflow.get_state({\"configurable\" : {\"thread_id\": 2, \"checkpoint_id\" : \"1f070350-40a5-6bd8-8000-94945e440955\"}})"
   ]
  },
  {
   "cell_type": "code",
   "execution_count": null,
   "id": "62f433b9",
   "metadata": {},
   "outputs": [
    {
     "data": {
      "text/plain": [
       "{'topic': 'pasta',\n",
       " 'joke': 'Why did the pasta go to therapy?\\n\\nBecause it was feeling a little \"drained\" and wanted to work through some \"saucy\" issues!',\n",
       " 'explanation': 'A clever play on words. This joke relies on a form of wordplay called a pun, which involves using a word or phrase that has multiple meanings or sounds similar to another word.\\n\\nIn this joke, the setup \"Why did the pasta go to therapy?\" primes the listener to expect a reason related to emotional or psychological issues. The punchline \"it was feeling a little \\'drained\\' and wanted to work through some \\'saucy\\' issues\" uses two key phrases to create the humor:\\n\\n1. \"Feeling a little \\'drained\\'\": This phrase has a double meaning. In a literal sense, pasta is often drained of water after cooking, so the word \"drained\" is associated with the physical process of cooking pasta. However, in an emotional context, \"feeling drained\" is a common idiomatic expression for feeling exhausted, empty, or depleted. The joke exploits this dual meaning to create a humorous connection between the literal and emotional senses of the word.\\n2. \"Saucy issues\": This phrase is another play on words. In a culinary context, \"saucy\" refers to the sauces or seasonings used to flavor pasta dishes. However, in a psychological or emotional context, \"saucy\" can also imply provocative, cheeky, or slightly scandalous behavior. The joke uses this phrase to create a clever connection between the pasta\\'s literal association with sauces and the idea of working through personal issues that might be considered \"saucy\" or provocative.\\n\\nThe humor in this joke arises from the unexpected twist on the usual meanings of these words and the clever connection between the literal and emotional contexts. The joke requires a quick mental shift to understand the wordplay, which creates a sense of surprise and delight, making it amusing and entertaining.'}"
      ]
     },
     "execution_count": 20,
     "metadata": {},
     "output_type": "execute_result"
    }
   ],
   "source": [
    "# Resume the workflow from that specific checkpoint\n",
    "# This continues execution from where we left off at that point\n",
    "workflow.invoke(None, {\"configurable\" : {\"thread_id\": 2, \"checkpoint_id\" : \"1f070350-40a5-6bd8-8000-94945e440955\"}})"
   ]
  },
  {
   "cell_type": "code",
   "execution_count": null,
   "id": "f788f06d",
   "metadata": {},
   "outputs": [
    {
     "data": {
      "text/plain": [
       "[StateSnapshot(values={'topic': 'pasta', 'joke': 'Why did the pasta go to therapy?\\n\\nBecause it was feeling a little \"drained\" and wanted to work through some \"saucy\" issues!', 'explanation': 'A clever play on words. This joke relies on a form of wordplay called a pun, which involves using a word or phrase that has multiple meanings or sounds similar to another word.\\n\\nIn this joke, the setup \"Why did the pasta go to therapy?\" primes the listener to expect a reason related to emotional or psychological issues. The punchline \"it was feeling a little \\'drained\\' and wanted to work through some \\'saucy\\' issues\" uses two key phrases to create the humor:\\n\\n1. \"Feeling a little \\'drained\\'\": This phrase has a double meaning. In a literal sense, pasta is often drained of water after cooking, so the word \"drained\" is associated with the physical process of cooking pasta. However, in an emotional context, \"feeling drained\" is a common idiomatic expression for feeling exhausted, empty, or depleted. The joke exploits this dual meaning to create a humorous connection between the literal and emotional senses of the word.\\n2. \"Saucy issues\": This phrase is another play on words. In a culinary context, \"saucy\" refers to the sauces or seasonings used to flavor pasta dishes. However, in a psychological or emotional context, \"saucy\" can also imply provocative, cheeky, or slightly scandalous behavior. The joke uses this phrase to create a clever connection between the pasta\\'s literal association with sauces and the idea of working through personal issues that might be considered \"saucy\" or provocative.\\n\\nThe humor in this joke arises from the unexpected twist on the usual meanings of these words and the clever connection between the literal and emotional contexts. The joke requires a quick mental shift to understand the wordplay, which creates a sense of surprise and delight, making it amusing and entertaining.'}, next=(), config={'configurable': {'thread_id': '2', 'checkpoint_ns': '', 'checkpoint_id': '1f070372-bdca-623a-8002-553680301bc8'}}, metadata={'source': 'loop', 'step': 2, 'parents': {}}, created_at='2025-08-03T06:57:50.987730+00:00', parent_config={'configurable': {'thread_id': '2', 'checkpoint_ns': '', 'checkpoint_id': '1f070372-b369-6f4c-8001-7e18457d46ca'}}, tasks=(), interrupts=()),\n",
       " StateSnapshot(values={'topic': 'pasta', 'joke': 'Why did the pasta go to therapy?\\n\\nBecause it was feeling a little \"drained\" and wanted to work through some \"saucy\" issues!'}, next=('generate_explanation',), config={'configurable': {'thread_id': '2', 'checkpoint_ns': '', 'checkpoint_id': '1f070372-b369-6f4c-8001-7e18457d46ca'}}, metadata={'source': 'loop', 'step': 1, 'parents': {}}, created_at='2025-08-03T06:57:49.899758+00:00', parent_config={'configurable': {'thread_id': '2', 'checkpoint_ns': '', 'checkpoint_id': '1f070350-40a5-6bd8-8000-94945e440955'}}, tasks=(PregelTask(id='3bed4757-0e33-14c7-58ca-27655bc7a1c7', name='generate_explanation', path=('__pregel_pull', 'generate_explanation'), error=None, interrupts=(), state=None, result={'explanation': 'A clever play on words. This joke relies on a form of wordplay called a pun, which involves using a word or phrase that has multiple meanings or sounds similar to another word.\\n\\nIn this joke, the setup \"Why did the pasta go to therapy?\" primes the listener to expect a reason related to emotional or psychological issues. The punchline \"it was feeling a little \\'drained\\' and wanted to work through some \\'saucy\\' issues\" uses two key phrases to create the humor:\\n\\n1. \"Feeling a little \\'drained\\'\": This phrase has a double meaning. In a literal sense, pasta is often drained of water after cooking, so the word \"drained\" is associated with the physical process of cooking pasta. However, in an emotional context, \"feeling drained\" is a common idiomatic expression for feeling exhausted, empty, or depleted. The joke exploits this dual meaning to create a humorous connection between the literal and emotional senses of the word.\\n2. \"Saucy issues\": This phrase is another play on words. In a culinary context, \"saucy\" refers to the sauces or seasonings used to flavor pasta dishes. However, in a psychological or emotional context, \"saucy\" can also imply provocative, cheeky, or slightly scandalous behavior. The joke uses this phrase to create a clever connection between the pasta\\'s literal association with sauces and the idea of working through personal issues that might be considered \"saucy\" or provocative.\\n\\nThe humor in this joke arises from the unexpected twist on the usual meanings of these words and the clever connection between the literal and emotional contexts. The joke requires a quick mental shift to understand the wordplay, which creates a sense of surprise and delight, making it amusing and entertaining.'}),), interrupts=()),\n",
       " StateSnapshot(values={'topic': 'pasta', 'joke': 'Why did the spaghetti refuse to get married?\\n\\nBecause it was afraid of getting tangled up in a relationship!', 'explanation': 'A classic play on words. This joke is funny because it uses a clever pun to create a humorous connection between the setup and the punchline. \\n\\nThe joke starts by asking why the spaghetti refused to get married, which sets up the expectation that the reason will be related to relationships or commitment. The punchline subverts this expectation by using the phrase \"tangled up\" in a literal and figurative sense. \\n\\nSpaghetti is a type of long, thin, cylindrical pasta that can easily become entangled or \"tangled up\" when not cooked or stored properly. However, the phrase \"tangled up\" is also an idiomatic expression that means to become deeply involved or embroiled in a complicated situation, often in the context of relationships.\\n\\nThe joke relies on this double meaning of \"tangled up\" to create a wordplay that connects the physical properties of spaghetti (getting tangled) to the emotional connotations of a romantic relationship (getting tangled up in a relationship). The humor comes from the unexpected twist on the usual meaning of the phrase, creating a lighthearted and clever connection between the setup and the punchline.'}, next=(), config={'configurable': {'thread_id': '2', 'checkpoint_ns': '', 'checkpoint_id': '1f070350-6796-6ba7-8002-d880b8327463'}}, metadata={'source': 'loop', 'step': 2, 'parents': {}}, created_at='2025-08-03T06:42:29.268368+00:00', parent_config={'configurable': {'thread_id': '2', 'checkpoint_ns': '', 'checkpoint_id': '1f070350-433e-62e0-8001-8dfb0133a573'}}, tasks=(), interrupts=()),\n",
       " StateSnapshot(values={'topic': 'pasta', 'joke': 'Why did the spaghetti refuse to get married?\\n\\nBecause it was afraid of getting tangled up in a relationship!'}, next=('generate_explanation',), config={'configurable': {'thread_id': '2', 'checkpoint_ns': '', 'checkpoint_id': '1f070350-433e-62e0-8001-8dfb0133a573'}}, metadata={'source': 'loop', 'step': 1, 'parents': {}}, created_at='2025-08-03T06:42:25.457225+00:00', parent_config={'configurable': {'thread_id': '2', 'checkpoint_ns': '', 'checkpoint_id': '1f070350-40a5-6bd8-8000-94945e440955'}}, tasks=(PregelTask(id='ad105c15-f546-24a8-8fa9-5ed0e549c78e', name='generate_explanation', path=('__pregel_pull', 'generate_explanation'), error=None, interrupts=(), state=None, result={'explanation': 'A classic play on words. This joke is funny because it uses a clever pun to create a humorous connection between the setup and the punchline. \\n\\nThe joke starts by asking why the spaghetti refused to get married, which sets up the expectation that the reason will be related to relationships or commitment. The punchline subverts this expectation by using the phrase \"tangled up\" in a literal and figurative sense. \\n\\nSpaghetti is a type of long, thin, cylindrical pasta that can easily become entangled or \"tangled up\" when not cooked or stored properly. However, the phrase \"tangled up\" is also an idiomatic expression that means to become deeply involved or embroiled in a complicated situation, often in the context of relationships.\\n\\nThe joke relies on this double meaning of \"tangled up\" to create a wordplay that connects the physical properties of spaghetti (getting tangled) to the emotional connotations of a romantic relationship (getting tangled up in a relationship). The humor comes from the unexpected twist on the usual meaning of the phrase, creating a lighthearted and clever connection between the setup and the punchline.'}),), interrupts=()),\n",
       " StateSnapshot(values={'topic': 'pasta'}, next=('generate_joke',), config={'configurable': {'thread_id': '2', 'checkpoint_ns': '', 'checkpoint_id': '1f070350-40a5-6bd8-8000-94945e440955'}}, metadata={'source': 'loop', 'step': 0, 'parents': {}}, created_at='2025-08-03T06:42:25.185071+00:00', parent_config={'configurable': {'thread_id': '2', 'checkpoint_ns': '', 'checkpoint_id': '1f070350-40a3-6064-bfff-360276f26118'}}, tasks=(PregelTask(id='ad376966-fbb9-c1ac-52ce-22c8ce04d5a8', name='generate_joke', path=('__pregel_pull', 'generate_joke'), error=None, interrupts=(), state=None, result={'joke': 'Why did the spaghetti refuse to get married?\\n\\nBecause it was afraid of getting tangled up in a relationship!'}),), interrupts=()),\n",
       " StateSnapshot(values={}, next=('__start__',), config={'configurable': {'thread_id': '2', 'checkpoint_ns': '', 'checkpoint_id': '1f070350-40a3-6064-bfff-360276f26118'}}, metadata={'source': 'input', 'step': -1, 'parents': {}}, created_at='2025-08-03T06:42:25.183958+00:00', parent_config=None, tasks=(PregelTask(id='f51f7d7d-6436-c4fb-977f-3e710c34f355', name='__start__', path=('__pregel_pull', '__start__'), error=None, interrupts=(), state=None, result={'topic': 'pasta'}),), interrupts=())]"
      ]
     },
     "execution_count": 21,
     "metadata": {},
     "output_type": "execute_result"
    }
   ],
   "source": [
    "# See how the history has changed after resuming from the checkpoint\n",
    "list(workflow.get_state_history(config=config2))"
   ]
  },
  {
   "cell_type": "code",
   "execution_count": null,
   "id": "4220a066",
   "metadata": {},
   "outputs": [
    {
     "data": {
      "text/plain": [
       "{'configurable': {'thread_id': '2',\n",
       "  'checkpoint_ns': '',\n",
       "  'checkpoint_id': '1f07037e-4978-60e8-8001-388de4fa4c0c'}}"
      ]
     },
     "execution_count": 26,
     "metadata": {},
     "output_type": "execute_result"
    }
   ],
   "source": [
    "# Manually update the state at a specific checkpoint\n",
    "# This changes the topic from 'pasta' to 'samosa' at that point in history\n",
    "workflow.update_state({\"configurable\": {\"thread_id\": \"2\", \"checkpoint_id\" : \"1f070350-40a5-6bd8-8000-94945e440955\", \"checkpoint_ns\":\"\"}}, {'topic': 'samosa'})"
   ]
  },
  {
   "cell_type": "code",
   "execution_count": null,
   "id": "c8f4fa97",
   "metadata": {},
   "outputs": [
    {
     "data": {
      "text/plain": [
       "[StateSnapshot(values={'topic': 'samosa'}, next=('generate_joke',), config={'configurable': {'thread_id': '2', 'checkpoint_ns': '', 'checkpoint_id': '1f07037e-4978-60e8-8001-388de4fa4c0c'}}, metadata={'source': 'update', 'step': 1, 'parents': {}}, created_at='2025-08-03T07:03:00.913175+00:00', parent_config={'configurable': {'thread_id': '2', 'checkpoint_ns': '', 'checkpoint_id': '1f070350-40a5-6bd8-8000-94945e440955'}}, tasks=(PregelTask(id='fe0c0558-1b5e-f8ed-ad29-452dd7455390', name='generate_joke', path=('__pregel_pull', 'generate_joke'), error=None, interrupts=(), state=None, result=None),), interrupts=()),\n",
       " StateSnapshot(values={'topic': 'pasta', 'joke': 'Why did the spaghetti refuse to get married?\\n\\nBecause it was afraid of getting tangled up in a relationship! (get it?)', 'explanation': 'A clever play on words. The joke relies on a double meaning of the phrase \"tangled up\" to create the punchline. \\n\\nIn a literal sense, spaghetti is a long, thin, and flexible type of pasta that can easily become tangled or knotted when not properly managed. This physical characteristic of spaghetti is the foundation of the joke.\\n\\nIn a figurative sense, the phrase \"tangled up\" is also an idiom that means to become deeply involved or entangled in a complicated situation, often in the context of romantic relationships. When someone says they don\\'t want to get \"tangled up\" in a relationship, they usually mean they don\\'t want to get overly involved or committed.\\n\\nThe joke exploits this dual meaning by applying the literal characteristic of spaghetti (getting tangled) to the figurative phrase (getting tangled up in a relationship), creating a clever and humorous connection between the setup and the punchline. The speaker is making a lighthearted comment that the spaghetti is afraid of getting married because it\\'s worried about the complications and entanglements that come with a romantic relationship, much like its physical tendency to become tangled. The joke requires a quick mental shift between the literal and figurative meanings, which creates the comedic effect.'}, next=(), config={'configurable': {'thread_id': '2', 'checkpoint_ns': '', 'checkpoint_id': '1f07037c-bae2-6288-8002-5178c872f6b8'}}, metadata={'source': 'loop', 'step': 2, 'parents': {}}, created_at='2025-08-03T07:02:19.118452+00:00', parent_config={'configurable': {'thread_id': '2', 'checkpoint_ns': '', 'checkpoint_id': '1f07037c-b21d-66f3-8001-0920fb98c96d'}}, tasks=(), interrupts=()),\n",
       " StateSnapshot(values={'topic': 'pasta', 'joke': 'Why did the spaghetti refuse to get married?\\n\\nBecause it was afraid of getting tangled up in a relationship! (get it?)'}, next=('generate_explanation',), config={'configurable': {'thread_id': '2', 'checkpoint_ns': '', 'checkpoint_id': '1f07037c-b21d-66f3-8001-0920fb98c96d'}}, metadata={'source': 'loop', 'step': 1, 'parents': {}}, created_at='2025-08-03T07:02:18.199013+00:00', parent_config={'configurable': {'thread_id': '2', 'checkpoint_ns': '', 'checkpoint_id': '1f070350-40a5-6bd8-8000-94945e440955'}}, tasks=(PregelTask(id='101c8ea9-92c9-dc2a-eb4e-407ce5549341', name='generate_explanation', path=('__pregel_pull', 'generate_explanation'), error=None, interrupts=(), state=None, result={'explanation': 'A clever play on words. The joke relies on a double meaning of the phrase \"tangled up\" to create the punchline. \\n\\nIn a literal sense, spaghetti is a long, thin, and flexible type of pasta that can easily become tangled or knotted when not properly managed. This physical characteristic of spaghetti is the foundation of the joke.\\n\\nIn a figurative sense, the phrase \"tangled up\" is also an idiom that means to become deeply involved or entangled in a complicated situation, often in the context of romantic relationships. When someone says they don\\'t want to get \"tangled up\" in a relationship, they usually mean they don\\'t want to get overly involved or committed.\\n\\nThe joke exploits this dual meaning by applying the literal characteristic of spaghetti (getting tangled) to the figurative phrase (getting tangled up in a relationship), creating a clever and humorous connection between the setup and the punchline. The speaker is making a lighthearted comment that the spaghetti is afraid of getting married because it\\'s worried about the complications and entanglements that come with a romantic relationship, much like its physical tendency to become tangled. The joke requires a quick mental shift between the literal and figurative meanings, which creates the comedic effect.'}),), interrupts=()),\n",
       " StateSnapshot(values={'topic': 'samosa'}, next=('generate_joke',), config={'configurable': {'thread_id': '2', 'checkpoint_ns': '', 'checkpoint_id': '1f070379-96c2-6fd7-8001-ec0c8a9e3178'}}, metadata={'source': 'update', 'step': 1, 'parents': {}}, created_at='2025-08-03T07:00:54.800175+00:00', parent_config={'configurable': {'thread_id': '2', 'checkpoint_ns': '', 'checkpoint_id': '1f070350-40a5-6bd8-8000-94945e440955'}}, tasks=(PregelTask(id='ec075ba9-d738-7639-b1a1-b3825882d1b1', name='generate_joke', path=('__pregel_pull', 'generate_joke'), error=None, interrupts=(), state=None, result=None),), interrupts=()),\n",
       " StateSnapshot(values={'topic': 'pasta', 'joke': 'Why did the pasta go to therapy?\\n\\nBecause it was feeling a little \"drained\" and wanted to work through some \"saucy\" issues!', 'explanation': 'A clever play on words. This joke relies on a form of wordplay called a pun, which involves using a word or phrase that has multiple meanings or sounds similar to another word.\\n\\nIn this joke, the setup \"Why did the pasta go to therapy?\" primes the listener to expect a reason related to emotional or psychological issues. The punchline \"it was feeling a little \\'drained\\' and wanted to work through some \\'saucy\\' issues\" uses two key phrases to create the humor:\\n\\n1. \"Feeling a little \\'drained\\'\": This phrase has a double meaning. In a literal sense, pasta is often drained of water after cooking, so the word \"drained\" is associated with the physical process of cooking pasta. However, in an emotional context, \"feeling drained\" is a common idiomatic expression for feeling exhausted, empty, or depleted. The joke exploits this dual meaning to create a humorous connection between the literal and emotional senses of the word.\\n2. \"Saucy issues\": This phrase is another play on words. In a culinary context, \"saucy\" refers to the sauces or seasonings used to flavor pasta dishes. However, in a psychological or emotional context, \"saucy\" can also imply provocative, cheeky, or slightly scandalous behavior. The joke uses this phrase to create a clever connection between the pasta\\'s literal association with sauces and the idea of working through personal issues that might be considered \"saucy\" or provocative.\\n\\nThe humor in this joke arises from the unexpected twist on the usual meanings of these words and the clever connection between the literal and emotional contexts. The joke requires a quick mental shift to understand the wordplay, which creates a sense of surprise and delight, making it amusing and entertaining.'}, next=(), config={'configurable': {'thread_id': '2', 'checkpoint_ns': '', 'checkpoint_id': '1f070372-bdca-623a-8002-553680301bc8'}}, metadata={'source': 'loop', 'step': 2, 'parents': {}}, created_at='2025-08-03T06:57:50.987730+00:00', parent_config={'configurable': {'thread_id': '2', 'checkpoint_ns': '', 'checkpoint_id': '1f070372-b369-6f4c-8001-7e18457d46ca'}}, tasks=(), interrupts=()),\n",
       " StateSnapshot(values={'topic': 'pasta', 'joke': 'Why did the pasta go to therapy?\\n\\nBecause it was feeling a little \"drained\" and wanted to work through some \"saucy\" issues!'}, next=('generate_explanation',), config={'configurable': {'thread_id': '2', 'checkpoint_ns': '', 'checkpoint_id': '1f070372-b369-6f4c-8001-7e18457d46ca'}}, metadata={'source': 'loop', 'step': 1, 'parents': {}}, created_at='2025-08-03T06:57:49.899758+00:00', parent_config={'configurable': {'thread_id': '2', 'checkpoint_ns': '', 'checkpoint_id': '1f070350-40a5-6bd8-8000-94945e440955'}}, tasks=(PregelTask(id='3bed4757-0e33-14c7-58ca-27655bc7a1c7', name='generate_explanation', path=('__pregel_pull', 'generate_explanation'), error=None, interrupts=(), state=None, result={'explanation': 'A clever play on words. This joke relies on a form of wordplay called a pun, which involves using a word or phrase that has multiple meanings or sounds similar to another word.\\n\\nIn this joke, the setup \"Why did the pasta go to therapy?\" primes the listener to expect a reason related to emotional or psychological issues. The punchline \"it was feeling a little \\'drained\\' and wanted to work through some \\'saucy\\' issues\" uses two key phrases to create the humor:\\n\\n1. \"Feeling a little \\'drained\\'\": This phrase has a double meaning. In a literal sense, pasta is often drained of water after cooking, so the word \"drained\" is associated with the physical process of cooking pasta. However, in an emotional context, \"feeling drained\" is a common idiomatic expression for feeling exhausted, empty, or depleted. The joke exploits this dual meaning to create a humorous connection between the literal and emotional senses of the word.\\n2. \"Saucy issues\": This phrase is another play on words. In a culinary context, \"saucy\" refers to the sauces or seasonings used to flavor pasta dishes. However, in a psychological or emotional context, \"saucy\" can also imply provocative, cheeky, or slightly scandalous behavior. The joke uses this phrase to create a clever connection between the pasta\\'s literal association with sauces and the idea of working through personal issues that might be considered \"saucy\" or provocative.\\n\\nThe humor in this joke arises from the unexpected twist on the usual meanings of these words and the clever connection between the literal and emotional contexts. The joke requires a quick mental shift to understand the wordplay, which creates a sense of surprise and delight, making it amusing and entertaining.'}),), interrupts=()),\n",
       " StateSnapshot(values={'topic': 'pasta', 'joke': 'Why did the spaghetti refuse to get married?\\n\\nBecause it was afraid of getting tangled up in a relationship!', 'explanation': 'A classic play on words. This joke is funny because it uses a clever pun to create a humorous connection between the setup and the punchline. \\n\\nThe joke starts by asking why the spaghetti refused to get married, which sets up the expectation that the reason will be related to relationships or commitment. The punchline subverts this expectation by using the phrase \"tangled up\" in a literal and figurative sense. \\n\\nSpaghetti is a type of long, thin, cylindrical pasta that can easily become entangled or \"tangled up\" when not cooked or stored properly. However, the phrase \"tangled up\" is also an idiomatic expression that means to become deeply involved or embroiled in a complicated situation, often in the context of relationships.\\n\\nThe joke relies on this double meaning of \"tangled up\" to create a wordplay that connects the physical properties of spaghetti (getting tangled) to the emotional connotations of a romantic relationship (getting tangled up in a relationship). The humor comes from the unexpected twist on the usual meaning of the phrase, creating a lighthearted and clever connection between the setup and the punchline.'}, next=(), config={'configurable': {'thread_id': '2', 'checkpoint_ns': '', 'checkpoint_id': '1f070350-6796-6ba7-8002-d880b8327463'}}, metadata={'source': 'loop', 'step': 2, 'parents': {}}, created_at='2025-08-03T06:42:29.268368+00:00', parent_config={'configurable': {'thread_id': '2', 'checkpoint_ns': '', 'checkpoint_id': '1f070350-433e-62e0-8001-8dfb0133a573'}}, tasks=(), interrupts=()),\n",
       " StateSnapshot(values={'topic': 'pasta', 'joke': 'Why did the spaghetti refuse to get married?\\n\\nBecause it was afraid of getting tangled up in a relationship!'}, next=('generate_explanation',), config={'configurable': {'thread_id': '2', 'checkpoint_ns': '', 'checkpoint_id': '1f070350-433e-62e0-8001-8dfb0133a573'}}, metadata={'source': 'loop', 'step': 1, 'parents': {}}, created_at='2025-08-03T06:42:25.457225+00:00', parent_config={'configurable': {'thread_id': '2', 'checkpoint_ns': '', 'checkpoint_id': '1f070350-40a5-6bd8-8000-94945e440955'}}, tasks=(PregelTask(id='ad105c15-f546-24a8-8fa9-5ed0e549c78e', name='generate_explanation', path=('__pregel_pull', 'generate_explanation'), error=None, interrupts=(), state=None, result={'explanation': 'A classic play on words. This joke is funny because it uses a clever pun to create a humorous connection between the setup and the punchline. \\n\\nThe joke starts by asking why the spaghetti refused to get married, which sets up the expectation that the reason will be related to relationships or commitment. The punchline subverts this expectation by using the phrase \"tangled up\" in a literal and figurative sense. \\n\\nSpaghetti is a type of long, thin, cylindrical pasta that can easily become entangled or \"tangled up\" when not cooked or stored properly. However, the phrase \"tangled up\" is also an idiomatic expression that means to become deeply involved or embroiled in a complicated situation, often in the context of relationships.\\n\\nThe joke relies on this double meaning of \"tangled up\" to create a wordplay that connects the physical properties of spaghetti (getting tangled) to the emotional connotations of a romantic relationship (getting tangled up in a relationship). The humor comes from the unexpected twist on the usual meaning of the phrase, creating a lighthearted and clever connection between the setup and the punchline.'}),), interrupts=()),\n",
       " StateSnapshot(values={'topic': 'pasta'}, next=('generate_joke',), config={'configurable': {'thread_id': '2', 'checkpoint_ns': '', 'checkpoint_id': '1f070350-40a5-6bd8-8000-94945e440955'}}, metadata={'source': 'loop', 'step': 0, 'parents': {}}, created_at='2025-08-03T06:42:25.185071+00:00', parent_config={'configurable': {'thread_id': '2', 'checkpoint_ns': '', 'checkpoint_id': '1f070350-40a3-6064-bfff-360276f26118'}}, tasks=(PregelTask(id='ad376966-fbb9-c1ac-52ce-22c8ce04d5a8', name='generate_joke', path=('__pregel_pull', 'generate_joke'), error=None, interrupts=(), state=None, result={'joke': 'Why did the spaghetti refuse to get married?\\n\\nBecause it was afraid of getting tangled up in a relationship!'}),), interrupts=()),\n",
       " StateSnapshot(values={}, next=('__start__',), config={'configurable': {'thread_id': '2', 'checkpoint_ns': '', 'checkpoint_id': '1f070350-40a3-6064-bfff-360276f26118'}}, metadata={'source': 'input', 'step': -1, 'parents': {}}, created_at='2025-08-03T06:42:25.183958+00:00', parent_config=None, tasks=(PregelTask(id='f51f7d7d-6436-c4fb-977f-3e710c34f355', name='__start__', path=('__pregel_pull', '__start__'), error=None, interrupts=(), state=None, result={'topic': 'pasta'}),), interrupts=())]"
      ]
     },
     "execution_count": 27,
     "metadata": {},
     "output_type": "execute_result"
    }
   ],
   "source": [
    "# Check the history after manually updating the state\n",
    "# Notice how the topic has changed in the workflow history\n",
    "list(workflow.get_state_history(config2))"
   ]
  },
  {
   "cell_type": "code",
   "execution_count": null,
   "id": "2022cfff",
   "metadata": {},
   "outputs": [
    {
     "data": {
      "text/plain": [
       "{'topic': 'samosa',\n",
       " 'joke': 'Why did the samosa go to therapy?\\n\\nBecause it was feeling a little \"crunchy\" under the pressure and had a lot of \"filling\" emotional issues to work through! (get it?)',\n",
       " 'explanation': 'A deliciously clever joke. Let\\'s break it down:\\n\\nThe joke starts by setting up a unexpected scenario: a samosa, a type of fried or baked pastry, going to therapy. This already piques the listener\\'s interest, as it\\'s unusual to think of an inanimate object, especially a food item, seeking therapy.\\n\\nThe punchline is where the wordplay comes in. The joke relies on two key phrases: \"crunchy\" and \"filling.\" \\n\\n* \"Crunchy\" has a double meaning here. In one sense, a samosa is a crunchy food item, known for its crispy exterior. However, \"feeling crunchy\" is also a play on words, as it sounds similar to \"feeling crunched,\" which means feeling overwhelmed or stressed by pressure.\\n* \"Filling\" is another clever play on words. A samosa typically has a filling, such as spiced potatoes or peas. But in this joke, \"filling emotional issues\" is a phrase that sounds like it could be a genuine therapeutic concern, implying that the samosa has deep-seated emotional problems that need to be addressed.\\n\\nThe humor comes from the clever use of language, where the characteristics of a samosa (its crunchiness and filling) are used to create a humorous connection to the idea of emotional struggles and therapy. It\\'s a lighthearted and creative way to poke fun at the idea of seeking help for one\\'s problems, using a relatable and beloved food item as the protagonist.'}"
      ]
     },
     "execution_count": 28,
     "metadata": {},
     "output_type": "execute_result"
    }
   ],
   "source": [
    "# Continue the workflow from the updated checkpoint\n",
    "# This will generate a new joke with the updated topic 'samosa'\n",
    "workflow.invoke(None, {\"configurable\": {\"thread_id\": \"2\", \"checkpoint_id\": \"1f07037e-4978-60e8-8001-388de4fa4c0c\"}})"
   ]
  },
  {
   "cell_type": "code",
   "execution_count": null,
   "id": "5bdda787",
   "metadata": {},
   "outputs": [
    {
     "data": {
      "text/plain": [
       "[StateSnapshot(values={'topic': 'samosa', 'joke': 'Why did the samosa go to therapy?\\n\\nBecause it was feeling a little \"crunchy\" under the pressure and had a lot of \"filling\" emotional issues to work through! (get it?)', 'explanation': 'A deliciously clever joke. Let\\'s break it down:\\n\\nThe joke starts by setting up a unexpected scenario: a samosa, a type of fried or baked pastry, going to therapy. This already piques the listener\\'s interest, as it\\'s unusual to think of an inanimate object, especially a food item, seeking therapy.\\n\\nThe punchline is where the wordplay comes in. The joke relies on two key phrases: \"crunchy\" and \"filling.\" \\n\\n* \"Crunchy\" has a double meaning here. In one sense, a samosa is a crunchy food item, known for its crispy exterior. However, \"feeling crunchy\" is also a play on words, as it sounds similar to \"feeling crunched,\" which means feeling overwhelmed or stressed by pressure.\\n* \"Filling\" is another clever play on words. A samosa typically has a filling, such as spiced potatoes or peas. But in this joke, \"filling emotional issues\" is a phrase that sounds like it could be a genuine therapeutic concern, implying that the samosa has deep-seated emotional problems that need to be addressed.\\n\\nThe humor comes from the clever use of language, where the characteristics of a samosa (its crunchiness and filling) are used to create a humorous connection to the idea of emotional struggles and therapy. It\\'s a lighthearted and creative way to poke fun at the idea of seeking help for one\\'s problems, using a relatable and beloved food item as the protagonist.'}, next=(), config={'configurable': {'thread_id': '2', 'checkpoint_ns': '', 'checkpoint_id': '1f07037f-c4f6-6ad5-8003-96de74fd31af'}}, metadata={'source': 'loop', 'step': 3, 'parents': {}}, created_at='2025-08-03T07:03:40.706069+00:00', parent_config={'configurable': {'thread_id': '2', 'checkpoint_ns': '', 'checkpoint_id': '1f07037f-bb43-63c1-8002-c51d62252232'}}, tasks=(), interrupts=()),\n",
       " StateSnapshot(values={'topic': 'samosa', 'joke': 'Why did the samosa go to therapy?\\n\\nBecause it was feeling a little \"crunchy\" under the pressure and had a lot of \"filling\" emotional issues to work through! (get it?)'}, next=('generate_explanation',), config={'configurable': {'thread_id': '2', 'checkpoint_ns': '', 'checkpoint_id': '1f07037f-bb43-63c1-8002-c51d62252232'}}, metadata={'source': 'loop', 'step': 2, 'parents': {}}, created_at='2025-08-03T07:03:39.688851+00:00', parent_config={'configurable': {'thread_id': '2', 'checkpoint_ns': '', 'checkpoint_id': '1f07037e-4978-60e8-8001-388de4fa4c0c'}}, tasks=(PregelTask(id='5994d932-cd35-ad83-7621-c5c115ab3051', name='generate_explanation', path=('__pregel_pull', 'generate_explanation'), error=None, interrupts=(), state=None, result={'explanation': 'A deliciously clever joke. Let\\'s break it down:\\n\\nThe joke starts by setting up a unexpected scenario: a samosa, a type of fried or baked pastry, going to therapy. This already piques the listener\\'s interest, as it\\'s unusual to think of an inanimate object, especially a food item, seeking therapy.\\n\\nThe punchline is where the wordplay comes in. The joke relies on two key phrases: \"crunchy\" and \"filling.\" \\n\\n* \"Crunchy\" has a double meaning here. In one sense, a samosa is a crunchy food item, known for its crispy exterior. However, \"feeling crunchy\" is also a play on words, as it sounds similar to \"feeling crunched,\" which means feeling overwhelmed or stressed by pressure.\\n* \"Filling\" is another clever play on words. A samosa typically has a filling, such as spiced potatoes or peas. But in this joke, \"filling emotional issues\" is a phrase that sounds like it could be a genuine therapeutic concern, implying that the samosa has deep-seated emotional problems that need to be addressed.\\n\\nThe humor comes from the clever use of language, where the characteristics of a samosa (its crunchiness and filling) are used to create a humorous connection to the idea of emotional struggles and therapy. It\\'s a lighthearted and creative way to poke fun at the idea of seeking help for one\\'s problems, using a relatable and beloved food item as the protagonist.'}),), interrupts=()),\n",
       " StateSnapshot(values={'topic': 'samosa'}, next=('generate_joke',), config={'configurable': {'thread_id': '2', 'checkpoint_ns': '', 'checkpoint_id': '1f07037e-4978-60e8-8001-388de4fa4c0c'}}, metadata={'source': 'update', 'step': 1, 'parents': {}}, created_at='2025-08-03T07:03:00.913175+00:00', parent_config={'configurable': {'thread_id': '2', 'checkpoint_ns': '', 'checkpoint_id': '1f070350-40a5-6bd8-8000-94945e440955'}}, tasks=(PregelTask(id='fe0c0558-1b5e-f8ed-ad29-452dd7455390', name='generate_joke', path=('__pregel_pull', 'generate_joke'), error=None, interrupts=(), state=None, result={'joke': 'Why did the samosa go to therapy?\\n\\nBecause it was feeling a little \"crunchy\" under the pressure and had a lot of \"filling\" emotional issues to work through! (get it?)'}),), interrupts=()),\n",
       " StateSnapshot(values={'topic': 'pasta', 'joke': 'Why did the spaghetti refuse to get married?\\n\\nBecause it was afraid of getting tangled up in a relationship! (get it?)', 'explanation': 'A clever play on words. The joke relies on a double meaning of the phrase \"tangled up\" to create the punchline. \\n\\nIn a literal sense, spaghetti is a long, thin, and flexible type of pasta that can easily become tangled or knotted when not properly managed. This physical characteristic of spaghetti is the foundation of the joke.\\n\\nIn a figurative sense, the phrase \"tangled up\" is also an idiom that means to become deeply involved or entangled in a complicated situation, often in the context of romantic relationships. When someone says they don\\'t want to get \"tangled up\" in a relationship, they usually mean they don\\'t want to get overly involved or committed.\\n\\nThe joke exploits this dual meaning by applying the literal characteristic of spaghetti (getting tangled) to the figurative phrase (getting tangled up in a relationship), creating a clever and humorous connection between the setup and the punchline. The speaker is making a lighthearted comment that the spaghetti is afraid of getting married because it\\'s worried about the complications and entanglements that come with a romantic relationship, much like its physical tendency to become tangled. The joke requires a quick mental shift between the literal and figurative meanings, which creates the comedic effect.'}, next=(), config={'configurable': {'thread_id': '2', 'checkpoint_ns': '', 'checkpoint_id': '1f07037c-bae2-6288-8002-5178c872f6b8'}}, metadata={'source': 'loop', 'step': 2, 'parents': {}}, created_at='2025-08-03T07:02:19.118452+00:00', parent_config={'configurable': {'thread_id': '2', 'checkpoint_ns': '', 'checkpoint_id': '1f07037c-b21d-66f3-8001-0920fb98c96d'}}, tasks=(), interrupts=()),\n",
       " StateSnapshot(values={'topic': 'pasta', 'joke': 'Why did the spaghetti refuse to get married?\\n\\nBecause it was afraid of getting tangled up in a relationship! (get it?)'}, next=('generate_explanation',), config={'configurable': {'thread_id': '2', 'checkpoint_ns': '', 'checkpoint_id': '1f07037c-b21d-66f3-8001-0920fb98c96d'}}, metadata={'source': 'loop', 'step': 1, 'parents': {}}, created_at='2025-08-03T07:02:18.199013+00:00', parent_config={'configurable': {'thread_id': '2', 'checkpoint_ns': '', 'checkpoint_id': '1f070350-40a5-6bd8-8000-94945e440955'}}, tasks=(PregelTask(id='101c8ea9-92c9-dc2a-eb4e-407ce5549341', name='generate_explanation', path=('__pregel_pull', 'generate_explanation'), error=None, interrupts=(), state=None, result={'explanation': 'A clever play on words. The joke relies on a double meaning of the phrase \"tangled up\" to create the punchline. \\n\\nIn a literal sense, spaghetti is a long, thin, and flexible type of pasta that can easily become tangled or knotted when not properly managed. This physical characteristic of spaghetti is the foundation of the joke.\\n\\nIn a figurative sense, the phrase \"tangled up\" is also an idiom that means to become deeply involved or entangled in a complicated situation, often in the context of romantic relationships. When someone says they don\\'t want to get \"tangled up\" in a relationship, they usually mean they don\\'t want to get overly involved or committed.\\n\\nThe joke exploits this dual meaning by applying the literal characteristic of spaghetti (getting tangled) to the figurative phrase (getting tangled up in a relationship), creating a clever and humorous connection between the setup and the punchline. The speaker is making a lighthearted comment that the spaghetti is afraid of getting married because it\\'s worried about the complications and entanglements that come with a romantic relationship, much like its physical tendency to become tangled. The joke requires a quick mental shift between the literal and figurative meanings, which creates the comedic effect.'}),), interrupts=()),\n",
       " StateSnapshot(values={'topic': 'samosa'}, next=('generate_joke',), config={'configurable': {'thread_id': '2', 'checkpoint_ns': '', 'checkpoint_id': '1f070379-96c2-6fd7-8001-ec0c8a9e3178'}}, metadata={'source': 'update', 'step': 1, 'parents': {}}, created_at='2025-08-03T07:00:54.800175+00:00', parent_config={'configurable': {'thread_id': '2', 'checkpoint_ns': '', 'checkpoint_id': '1f070350-40a5-6bd8-8000-94945e440955'}}, tasks=(PregelTask(id='ec075ba9-d738-7639-b1a1-b3825882d1b1', name='generate_joke', path=('__pregel_pull', 'generate_joke'), error=None, interrupts=(), state=None, result=None),), interrupts=()),\n",
       " StateSnapshot(values={'topic': 'pasta', 'joke': 'Why did the pasta go to therapy?\\n\\nBecause it was feeling a little \"drained\" and wanted to work through some \"saucy\" issues!', 'explanation': 'A clever play on words. This joke relies on a form of wordplay called a pun, which involves using a word or phrase that has multiple meanings or sounds similar to another word.\\n\\nIn this joke, the setup \"Why did the pasta go to therapy?\" primes the listener to expect a reason related to emotional or psychological issues. The punchline \"it was feeling a little \\'drained\\' and wanted to work through some \\'saucy\\' issues\" uses two key phrases to create the humor:\\n\\n1. \"Feeling a little \\'drained\\'\": This phrase has a double meaning. In a literal sense, pasta is often drained of water after cooking, so the word \"drained\" is associated with the physical process of cooking pasta. However, in an emotional context, \"feeling drained\" is a common idiomatic expression for feeling exhausted, empty, or depleted. The joke exploits this dual meaning to create a humorous connection between the literal and emotional senses of the word.\\n2. \"Saucy issues\": This phrase is another play on words. In a culinary context, \"saucy\" refers to the sauces or seasonings used to flavor pasta dishes. However, in a psychological or emotional context, \"saucy\" can also imply provocative, cheeky, or slightly scandalous behavior. The joke uses this phrase to create a clever connection between the pasta\\'s literal association with sauces and the idea of working through personal issues that might be considered \"saucy\" or provocative.\\n\\nThe humor in this joke arises from the unexpected twist on the usual meanings of these words and the clever connection between the literal and emotional contexts. The joke requires a quick mental shift to understand the wordplay, which creates a sense of surprise and delight, making it amusing and entertaining.'}, next=(), config={'configurable': {'thread_id': '2', 'checkpoint_ns': '', 'checkpoint_id': '1f070372-bdca-623a-8002-553680301bc8'}}, metadata={'source': 'loop', 'step': 2, 'parents': {}}, created_at='2025-08-03T06:57:50.987730+00:00', parent_config={'configurable': {'thread_id': '2', 'checkpoint_ns': '', 'checkpoint_id': '1f070372-b369-6f4c-8001-7e18457d46ca'}}, tasks=(), interrupts=()),\n",
       " StateSnapshot(values={'topic': 'pasta', 'joke': 'Why did the pasta go to therapy?\\n\\nBecause it was feeling a little \"drained\" and wanted to work through some \"saucy\" issues!'}, next=('generate_explanation',), config={'configurable': {'thread_id': '2', 'checkpoint_ns': '', 'checkpoint_id': '1f070372-b369-6f4c-8001-7e18457d46ca'}}, metadata={'source': 'loop', 'step': 1, 'parents': {}}, created_at='2025-08-03T06:57:49.899758+00:00', parent_config={'configurable': {'thread_id': '2', 'checkpoint_ns': '', 'checkpoint_id': '1f070350-40a5-6bd8-8000-94945e440955'}}, tasks=(PregelTask(id='3bed4757-0e33-14c7-58ca-27655bc7a1c7', name='generate_explanation', path=('__pregel_pull', 'generate_explanation'), error=None, interrupts=(), state=None, result={'explanation': 'A clever play on words. This joke relies on a form of wordplay called a pun, which involves using a word or phrase that has multiple meanings or sounds similar to another word.\\n\\nIn this joke, the setup \"Why did the pasta go to therapy?\" primes the listener to expect a reason related to emotional or psychological issues. The punchline \"it was feeling a little \\'drained\\' and wanted to work through some \\'saucy\\' issues\" uses two key phrases to create the humor:\\n\\n1. \"Feeling a little \\'drained\\'\": This phrase has a double meaning. In a literal sense, pasta is often drained of water after cooking, so the word \"drained\" is associated with the physical process of cooking pasta. However, in an emotional context, \"feeling drained\" is a common idiomatic expression for feeling exhausted, empty, or depleted. The joke exploits this dual meaning to create a humorous connection between the literal and emotional senses of the word.\\n2. \"Saucy issues\": This phrase is another play on words. In a culinary context, \"saucy\" refers to the sauces or seasonings used to flavor pasta dishes. However, in a psychological or emotional context, \"saucy\" can also imply provocative, cheeky, or slightly scandalous behavior. The joke uses this phrase to create a clever connection between the pasta\\'s literal association with sauces and the idea of working through personal issues that might be considered \"saucy\" or provocative.\\n\\nThe humor in this joke arises from the unexpected twist on the usual meanings of these words and the clever connection between the literal and emotional contexts. The joke requires a quick mental shift to understand the wordplay, which creates a sense of surprise and delight, making it amusing and entertaining.'}),), interrupts=()),\n",
       " StateSnapshot(values={'topic': 'pasta', 'joke': 'Why did the spaghetti refuse to get married?\\n\\nBecause it was afraid of getting tangled up in a relationship!', 'explanation': 'A classic play on words. This joke is funny because it uses a clever pun to create a humorous connection between the setup and the punchline. \\n\\nThe joke starts by asking why the spaghetti refused to get married, which sets up the expectation that the reason will be related to relationships or commitment. The punchline subverts this expectation by using the phrase \"tangled up\" in a literal and figurative sense. \\n\\nSpaghetti is a type of long, thin, cylindrical pasta that can easily become entangled or \"tangled up\" when not cooked or stored properly. However, the phrase \"tangled up\" is also an idiomatic expression that means to become deeply involved or embroiled in a complicated situation, often in the context of relationships.\\n\\nThe joke relies on this double meaning of \"tangled up\" to create a wordplay that connects the physical properties of spaghetti (getting tangled) to the emotional connotations of a romantic relationship (getting tangled up in a relationship). The humor comes from the unexpected twist on the usual meaning of the phrase, creating a lighthearted and clever connection between the setup and the punchline.'}, next=(), config={'configurable': {'thread_id': '2', 'checkpoint_ns': '', 'checkpoint_id': '1f070350-6796-6ba7-8002-d880b8327463'}}, metadata={'source': 'loop', 'step': 2, 'parents': {}}, created_at='2025-08-03T06:42:29.268368+00:00', parent_config={'configurable': {'thread_id': '2', 'checkpoint_ns': '', 'checkpoint_id': '1f070350-433e-62e0-8001-8dfb0133a573'}}, tasks=(), interrupts=()),\n",
       " StateSnapshot(values={'topic': 'pasta', 'joke': 'Why did the spaghetti refuse to get married?\\n\\nBecause it was afraid of getting tangled up in a relationship!'}, next=('generate_explanation',), config={'configurable': {'thread_id': '2', 'checkpoint_ns': '', 'checkpoint_id': '1f070350-433e-62e0-8001-8dfb0133a573'}}, metadata={'source': 'loop', 'step': 1, 'parents': {}}, created_at='2025-08-03T06:42:25.457225+00:00', parent_config={'configurable': {'thread_id': '2', 'checkpoint_ns': '', 'checkpoint_id': '1f070350-40a5-6bd8-8000-94945e440955'}}, tasks=(PregelTask(id='ad105c15-f546-24a8-8fa9-5ed0e549c78e', name='generate_explanation', path=('__pregel_pull', 'generate_explanation'), error=None, interrupts=(), state=None, result={'explanation': 'A classic play on words. This joke is funny because it uses a clever pun to create a humorous connection between the setup and the punchline. \\n\\nThe joke starts by asking why the spaghetti refused to get married, which sets up the expectation that the reason will be related to relationships or commitment. The punchline subverts this expectation by using the phrase \"tangled up\" in a literal and figurative sense. \\n\\nSpaghetti is a type of long, thin, cylindrical pasta that can easily become entangled or \"tangled up\" when not cooked or stored properly. However, the phrase \"tangled up\" is also an idiomatic expression that means to become deeply involved or embroiled in a complicated situation, often in the context of relationships.\\n\\nThe joke relies on this double meaning of \"tangled up\" to create a wordplay that connects the physical properties of spaghetti (getting tangled) to the emotional connotations of a romantic relationship (getting tangled up in a relationship). The humor comes from the unexpected twist on the usual meaning of the phrase, creating a lighthearted and clever connection between the setup and the punchline.'}),), interrupts=()),\n",
       " StateSnapshot(values={'topic': 'pasta'}, next=('generate_joke',), config={'configurable': {'thread_id': '2', 'checkpoint_ns': '', 'checkpoint_id': '1f070350-40a5-6bd8-8000-94945e440955'}}, metadata={'source': 'loop', 'step': 0, 'parents': {}}, created_at='2025-08-03T06:42:25.185071+00:00', parent_config={'configurable': {'thread_id': '2', 'checkpoint_ns': '', 'checkpoint_id': '1f070350-40a3-6064-bfff-360276f26118'}}, tasks=(PregelTask(id='ad376966-fbb9-c1ac-52ce-22c8ce04d5a8', name='generate_joke', path=('__pregel_pull', 'generate_joke'), error=None, interrupts=(), state=None, result={'joke': 'Why did the spaghetti refuse to get married?\\n\\nBecause it was afraid of getting tangled up in a relationship!'}),), interrupts=()),\n",
       " StateSnapshot(values={}, next=('__start__',), config={'configurable': {'thread_id': '2', 'checkpoint_ns': '', 'checkpoint_id': '1f070350-40a3-6064-bfff-360276f26118'}}, metadata={'source': 'input', 'step': -1, 'parents': {}}, created_at='2025-08-03T06:42:25.183958+00:00', parent_config=None, tasks=(PregelTask(id='f51f7d7d-6436-c4fb-977f-3e710c34f355', name='__start__', path=('__pregel_pull', '__start__'), error=None, interrupts=(), state=None, result={'topic': 'pasta'}),), interrupts=())]"
      ]
     },
     "execution_count": 29,
     "metadata": {},
     "output_type": "execute_result"
    }
   ],
   "source": [
    "# Final check of the complete history showing all our time travel adventures\n",
    "# You can see the original pasta joke, the manual update to samosa, and the new execution\n",
    "list(workflow.get_state_history(config2))"
   ]
  }
 ],
 "metadata": {
  "kernelspec": {
   "display_name": "langgraph-env",
   "language": "python",
   "name": "python3"
  },
  "language_info": {
   "codemirror_mode": {
    "name": "ipython",
    "version": 3
   },
   "file_extension": ".py",
   "mimetype": "text/x-python",
   "name": "python",
   "nbconvert_exporter": "python",
   "pygments_lexer": "ipython3",
   "version": "3.11.9"
  }
 },
 "nbformat": 4,
 "nbformat_minor": 5
}
